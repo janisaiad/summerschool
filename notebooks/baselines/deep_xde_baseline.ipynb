{
 "cells": [
  {
   "cell_type": "markdown",
   "id": "c4b39605",
   "metadata": {},
   "source": [
    "# Deep XDE Baseline for Heat Equation\n",
    "This notebook implements a PINN model using DeepXDE to solve the 2D heat equation."
   ]
  },
  {
   "cell_type": "code",
   "execution_count": null,
   "id": "8cf5aab3",
   "metadata": {
    "title": "[code]"
   },
   "outputs": [
    {
     "name": "stderr",
     "output_type": "stream",
     "text": [
      "WARNING:__main__:No GPU devices found, using CPU\n"
     ]
    }
   ],
   "source": [
    "import deepxde as dde\n",
    "import numpy as np\n",
    "import tensorflow as tf\n",
    "import matplotlib.pyplot as plt\n",
    "import os\n",
    "from tqdm.notebook import tqdm\n",
    "from datetime import datetime\n",
    "import logging\n",
    "\n",
    "# Configure logging\n",
    "logging.basicConfig(level=logging.INFO)\n",
    "logger = logging.getLogger(__name__)\n",
    "\n",
    "# Check for GPU availability and configure device\n",
    "device = \"/CPU:0\"  # Default to CPU\n",
    "if tf.test.is_built_with_cuda():\n",
    "    physical_devices = tf.config.list_physical_devices('GPU')\n",
    "    if physical_devices:\n",
    "        try:\n",
    "            tf.config.experimental.set_memory_growth(physical_devices[0], True)\n",
    "            device = \"/GPU:0\"\n",
    "            logger.info(f\"Using GPU: {physical_devices[0]}\")\n",
    "        except RuntimeError as e:\n",
    "            logger.warning(f\"Unable to use GPU: {e}\")\n",
    "            logger.warning(\"Falling back to CPU\")\n",
    "    else:\n",
    "        logger.warning(\"No GPU devices found, using CPU\")\n",
    "else:\n",
    "    logger.warning(\"CUDA is not available, using CPU\")"
   ]
  },
  {
   "cell_type": "code",
   "execution_count": null,
   "id": "baa9bc8e",
   "metadata": {
    "lines_to_next_cell": 1,
    "title": "[code]"
   },
   "outputs": [],
   "source": [
    "# Define parameters\n",
    "nx = 30  # Number of points in x direction\n",
    "ny = 30  # Number of points in y direction\n",
    "alpha = 0.05  # Diffusion coefficient\n",
    "t1 = 0  # Initial temperature at x=0\n",
    "t2 = 1  # Initial temperature at x=1\n",
    "end_time = 1  # End time"
   ]
  },
  {
   "cell_type": "code",
   "execution_count": null,
   "id": "0b18065c",
   "metadata": {
    "lines_to_next_cell": 1,
    "title": "[code]"
   },
   "outputs": [],
   "source": [
    "def pde(x, T):\n",
    "    dT_xx = dde.grad.hessian(T, x, j=0)\n",
    "    dT_yy = dde.grad.hessian(T, x, j=1) \n",
    "    dT_t = dde.grad.jacobian(T, x, j=2)\n",
    "    return dT_t - alpha * (dT_xx + dT_yy)\n",
    "\n",
    "def boundary_x_l(x, on_boundary):\n",
    "    return on_boundary and np.isclose(x[0], 0)\n",
    "\n",
    "def boundary_x_r(x, on_boundary):\n",
    "    return on_boundary and np.isclose(x[0], 1)\n",
    "\n",
    "def boundary_y_b(x, on_boundary):\n",
    "    return on_boundary and np.isclose(x[1], 0)\n",
    "\n",
    "def boundary_y_u(x, on_boundary):\n",
    "    return on_boundary and np.isclose(x[1], 1)\n",
    "\n",
    "def boundary_initial(x, on_initial):\n",
    "    return on_initial and np.isclose(x[2], 0)"
   ]
  },
  {
   "cell_type": "code",
   "execution_count": null,
   "id": "0847216a",
   "metadata": {
    "lines_to_next_cell": 1,
    "title": "[code]"
   },
   "outputs": [],
   "source": [
    "def init_func(x):\n",
    "    x_coord = x[:, 0:1]\n",
    "    t = np.zeros((len(x), 1))\n",
    "    for i, x_ in enumerate(x_coord):\n",
    "        if x_ < 0.5:\n",
    "            t[i] = t1\n",
    "        else:\n",
    "            t[i] = t1 + 2 * (x_ - 0.5)\n",
    "    return t\n",
    "\n",
    "def dir_func_l(x):\n",
    "    return t1 * np.ones((len(x), 1))\n",
    "\n",
    "def dir_func_r(x):\n",
    "    return t2 * np.ones((len(x), 1))\n",
    "\n",
    "def func_zero(x):\n",
    "    return np.zeros((len(x), 1))"
   ]
  },
  {
   "cell_type": "code",
   "execution_count": null,
   "id": "272cda67",
   "metadata": {
    "title": "[code]"
   },
   "outputs": [],
   "source": [
    "# Define geometry and time domain\n",
    "geom = dde.geometry.Rectangle([0, 0], [1, 1])\n",
    "timedomain = dde.geometry.TimeDomain(0, end_time)\n",
    "geomtime = dde.geometry.GeometryXTime(geom, timedomain)\n",
    "\n",
    "# Define boundary conditions\n",
    "bc_l = dde.DirichletBC(geomtime, dir_func_l, boundary_x_l)\n",
    "bc_r = dde.DirichletBC(geomtime, dir_func_r, boundary_x_r)\n",
    "bc_u = dde.NeumannBC(geomtime, func_zero, boundary_y_u)\n",
    "bc_b = dde.NeumannBC(geomtime, func_zero, boundary_y_b)\n",
    "ic = dde.IC(geomtime, init_func, boundary_initial)"
   ]
  },
  {
   "cell_type": "code",
   "execution_count": null,
   "id": "a95cd78a",
   "metadata": {
    "title": "[code]"
   },
   "outputs": [],
   "source": [
    "# Create TimePDE problem with real-time monitoring\n",
    "data = dde.data.TimePDE(\n",
    "    geomtime,\n",
    "    pde,\n",
    "    [bc_l, bc_r, bc_u, bc_b, ic],\n",
    "    num_domain=30000,\n",
    "    num_boundary=8000,\n",
    "    num_initial=20000\n",
    ")\n",
    "\n",
    "# Define neural network\n",
    "layer_size = [3] + [60] * 5 + [1]\n",
    "activation = \"tanh\"\n",
    "initializer = \"Glorot uniform\"\n",
    "net = dde.maps.FNN(layer_size, activation, initializer)\n",
    "net.apply_output_transform(lambda x, y: abs(y))"
   ]
  },
  {
   "cell_type": "code",
   "execution_count": null,
   "id": "8c6ca0b9",
   "metadata": {
    "lines_to_next_cell": 1,
    "title": "[code]"
   },
   "outputs": [
    {
     "name": "stdout",
     "output_type": "stream",
     "text": [
      "Compiling model...\n",
      "Building feed-forward neural network...\n",
      "'build' took 0.083081 s\n",
      "\n",
      "Warning: Rectangle boundary_normal called on vertices. You may use PDE(..., exclusions=...) to exclude the vertices.\n",
      "Warning: Rectangle boundary_normal called on vertices. You may use PDE(..., exclusions=...) to exclude the vertices.\n",
      "'compile' took 0.807385 s\n",
      "\n"
     ]
    }
   ],
   "source": [
    "# Create model and compile with monitoring\n",
    "model = dde.Model(data, net)\n",
    "model.compile(\"adam\", lr=1e-3, loss_weights=[10, 1, 1, 1, 1, 10])\n",
    "\n",
    "# Custom callback for real-time monitoring\n",
    "class TrainingMonitor(dde.callbacks.Callback):\n",
    "    def on_epoch_end(self):\n",
    "        if self.model.train_state.epoch % 100 == 0:\n",
    "            logger.info(f\"Epoch {self.model.train_state.epoch}: \"\n",
    "                       f\"Loss = {self.model.train_state.loss:.6f}\")"
   ]
  },
  {
   "cell_type": "code",
   "execution_count": null,
   "id": "e22215c2",
   "metadata": {
    "title": "[code]"
   },
   "outputs": [
    {
     "name": "stderr",
     "output_type": "stream",
     "text": [
      "INFO:__main__:Starting Adam optimization...\n"
     ]
    },
    {
     "data": {
      "application/vnd.jupyter.widget-view+json": {
       "model_id": "da5604cb998a496ab232e224e3eda75b",
       "version_major": 2,
       "version_minor": 0
      },
      "text/plain": [
       "Training (Adam):   0%|          | 0/10000 [00:00<?, ?it/s]"
      ]
     },
     "metadata": {},
     "output_type": "display_data"
    },
    {
     "name": "stdout",
     "output_type": "stream",
     "text": [
      "Training model...\n",
      "\n",
      "0         [1.41e-01, 1.31e-02, 6.06e-01, 3.62e-02, 7.88e-02, 8.83e-01]    [1.41e-01, 1.31e-02, 6.06e-01, 3.62e-02, 7.88e-02, 8.83e-01]    []  \n",
      "1         [2.26e-02, 3.54e-02, 2.51e-01, 1.35e-02, 5.56e-02, 6.93e-01]    [2.26e-02, 3.54e-02, 2.51e-01, 1.35e-02, 5.56e-02, 6.93e-01]    []  \n",
      "2         [1.08e-01, 2.16e-02, 1.38e-01, 4.12e-04, 1.04e-02, 5.44e-01]    [1.08e-01, 2.16e-02, 1.38e-01, 4.12e-04, 1.04e-02, 5.44e-01]    []  \n",
      "3         [7.72e-02, 2.88e-03, 1.14e-01, 2.00e-02, 2.68e-03, 4.07e-01]    [7.72e-02, 2.88e-03, 1.14e-01, 2.00e-02, 2.68e-03, 4.07e-01]    []  \n",
      "4         [1.64e-02, 1.10e-02, 1.16e-01, 6.00e-02, 3.17e-02, 3.49e-01]    [1.64e-02, 1.10e-02, 1.16e-01, 6.00e-02, 3.17e-02, 3.49e-01]    []  \n",
      "5         [2.95e-02, 3.61e-02, 1.06e-01, 8.91e-02, 5.97e-02, 3.51e-01]    [2.95e-02, 3.61e-02, 1.06e-01, 8.91e-02, 5.97e-02, 3.51e-01]    []  \n",
      "6         [4.12e-02, 4.76e-02, 7.90e-02, 9.11e-02, 6.02e-02, 3.70e-01]    [4.12e-02, 4.76e-02, 7.90e-02, 9.11e-02, 6.02e-02, 3.70e-01]    []  \n",
      "7         [2.09e-02, 4.23e-02, 5.21e-02, 7.56e-02, 4.34e-02, 3.88e-01]    [2.09e-02, 4.23e-02, 5.21e-02, 7.56e-02, 4.34e-02, 3.88e-01]    []  \n",
      "8         [2.14e-02, 3.20e-02, 3.66e-02, 5.43e-02, 2.41e-02, 3.86e-01]    [2.14e-02, 3.20e-02, 3.66e-02, 5.43e-02, 2.41e-02, 3.86e-01]    []  \n",
      "9         [4.75e-02, 2.50e-02, 3.44e-02, 3.46e-02, 9.96e-03, 3.53e-01]    [4.75e-02, 2.50e-02, 3.44e-02, 3.46e-02, 9.96e-03, 3.53e-01]    []  \n",
      "10        [5.75e-02, 2.34e-02, 4.50e-02, 1.94e-02, 2.40e-03, 3.05e-01]    [5.75e-02, 2.34e-02, 4.50e-02, 1.94e-02, 2.40e-03, 3.05e-01]    []  \n",
      "11        [3.90e-02, 2.60e-02, 6.66e-02, 9.08e-03, 8.19e-05, 2.68e-01]    [3.90e-02, 2.60e-02, 6.66e-02, 9.08e-03, 8.19e-05, 2.68e-01]    []  \n",
      "12        [1.67e-02, 3.09e-02, 9.32e-02, 3.22e-03, 1.98e-03, 2.51e-01]    [1.67e-02, 3.09e-02, 9.32e-02, 3.22e-03, 1.98e-03, 2.51e-01]    []  \n",
      "13        [9.33e-03, 3.53e-02, 1.14e-01, 1.34e-03, 7.69e-03, 2.50e-01]    [9.33e-03, 3.53e-02, 1.14e-01, 1.34e-03, 7.69e-03, 2.50e-01]    []  \n",
      "14        [1.07e-02, 3.67e-02, 1.22e-01, 2.51e-03, 1.63e-02, 2.56e-01]    [1.07e-02, 3.67e-02, 1.22e-01, 2.51e-03, 1.63e-02, 2.56e-01]    []  \n",
      "15        [9.57e-03, 3.51e-02, 1.15e-01, 5.03e-03, 2.55e-02, 2.63e-01]    [9.57e-03, 3.51e-02, 1.15e-01, 5.03e-03, 2.55e-02, 2.63e-01]    []  \n",
      "16        [9.14e-03, 3.22e-02, 1.02e-01, 6.99e-03, 3.19e-02, 2.68e-01]    [9.14e-03, 3.22e-02, 1.02e-01, 6.99e-03, 3.19e-02, 2.68e-01]    []  \n",
      "17        [1.78e-02, 3.04e-02, 8.78e-02, 7.21e-03, 3.32e-02, 2.69e-01]    [1.78e-02, 3.04e-02, 8.78e-02, 7.21e-03, 3.32e-02, 2.69e-01]    []  \n",
      "18        [3.21e-02, 3.13e-02, 7.79e-02, 5.79e-03, 2.91e-02, 2.63e-01]    [3.21e-02, 3.13e-02, 7.79e-02, 5.79e-03, 2.91e-02, 2.63e-01]    []  \n",
      "19        [3.84e-02, 3.57e-02, 7.26e-02, 3.76e-03, 2.17e-02, 2.54e-01]    [3.84e-02, 3.57e-02, 7.26e-02, 3.76e-03, 2.17e-02, 2.54e-01]    []  \n",
      "20        [3.08e-02, 4.36e-02, 7.02e-02, 2.26e-03, 1.40e-02, 2.46e-01]    [3.08e-02, 4.36e-02, 7.02e-02, 2.26e-03, 1.40e-02, 2.46e-01]    []  \n",
      "21        [1.76e-02, 5.37e-02, 6.79e-02, 1.81e-03, 8.01e-03, 2.43e-01]    [1.76e-02, 5.37e-02, 6.79e-02, 1.81e-03, 8.01e-03, 2.43e-01]    []  \n",
      "22        [9.71e-03, 6.34e-02, 6.34e-02, 2.29e-03, 4.12e-03, 2.45e-01]    [9.71e-03, 6.34e-02, 6.34e-02, 2.29e-03, 4.12e-03, 2.45e-01]    []  \n",
      "23        [8.39e-03, 6.97e-02, 5.64e-02, 3.36e-03, 1.92e-03, 2.52e-01]    [8.39e-03, 6.97e-02, 5.64e-02, 3.36e-03, 1.92e-03, 2.52e-01]    []  \n"
     ]
    },
    {
     "ename": "KeyboardInterrupt",
     "evalue": "",
     "output_type": "error",
     "traceback": [
      "\u001b[31m---------------------------------------------------------------------------\u001b[39m",
      "\u001b[31mKeyboardInterrupt\u001b[39m                         Traceback (most recent call last)",
      "\u001b[36mCell\u001b[39m\u001b[36m \u001b[39m\u001b[32mIn[16]\u001b[39m\u001b[32m, line 8\u001b[39m\n\u001b[32m      6\u001b[39m logger.info(\u001b[33m\"\u001b[39m\u001b[33mStarting Adam optimization...\u001b[39m\u001b[33m\"\u001b[39m)\n\u001b[32m      7\u001b[39m \u001b[38;5;28;01mwith\u001b[39;00m tqdm(total=\u001b[32m10000\u001b[39m, desc=\u001b[33m\"\u001b[39m\u001b[33mTraining (Adam)\u001b[39m\u001b[33m\"\u001b[39m) \u001b[38;5;28;01mas\u001b[39;00m pbar:\n\u001b[32m----> \u001b[39m\u001b[32m8\u001b[39m     losshistory, train_state = \u001b[43mmodel\u001b[49m\u001b[43m.\u001b[49m\u001b[43mtrain\u001b[49m\u001b[43m(\u001b[49m\n\u001b[32m      9\u001b[39m \u001b[43m        \u001b[49m\u001b[43miterations\u001b[49m\u001b[43m=\u001b[49m\u001b[32;43m10000\u001b[39;49m\u001b[43m,\u001b[49m\u001b[43m  \u001b[49m\u001b[38;5;66;43;03m# Using iterations instead of deprecated epochs\u001b[39;49;00m\n\u001b[32m     10\u001b[39m \u001b[43m        \u001b[49m\u001b[43mbatch_size\u001b[49m\u001b[43m=\u001b[49m\u001b[32;43m256\u001b[39;49m\u001b[43m,\u001b[49m\n\u001b[32m     11\u001b[39m \u001b[43m        \u001b[49m\u001b[43mcallbacks\u001b[49m\u001b[43m=\u001b[49m\u001b[43m[\u001b[49m\u001b[43mchecker\u001b[49m\u001b[43m,\u001b[49m\u001b[43m \u001b[49m\u001b[43mmonitor\u001b[49m\u001b[43m]\u001b[49m\u001b[43m,\u001b[49m\n\u001b[32m     12\u001b[39m \u001b[43m        \u001b[49m\u001b[43mdisplay_every\u001b[49m\u001b[43m=\u001b[49m\u001b[32;43m1\u001b[39;49m\u001b[43m,\u001b[49m\n\u001b[32m     13\u001b[39m \u001b[43m        \u001b[49m\u001b[43mdisregard_previous_best\u001b[49m\u001b[43m=\u001b[49m\u001b[38;5;28;43;01mTrue\u001b[39;49;00m\n\u001b[32m     14\u001b[39m \u001b[43m    \u001b[49m\u001b[43m)\u001b[49m\n\u001b[32m     15\u001b[39m     pbar.update(\u001b[32m10000\u001b[39m)\n",
      "\u001b[36mFile \u001b[39m\u001b[32m~/SCIML/sciml/.venv/lib/python3.11/site-packages/deepxde/utils/internal.py:22\u001b[39m, in \u001b[36mtiming.<locals>.wrapper\u001b[39m\u001b[34m(*args, **kwargs)\u001b[39m\n\u001b[32m     19\u001b[39m \u001b[38;5;129m@wraps\u001b[39m(f)\n\u001b[32m     20\u001b[39m \u001b[38;5;28;01mdef\u001b[39;00m\u001b[38;5;250m \u001b[39m\u001b[34mwrapper\u001b[39m(*args, **kwargs):\n\u001b[32m     21\u001b[39m     ts = timeit.default_timer()\n\u001b[32m---> \u001b[39m\u001b[32m22\u001b[39m     result = \u001b[43mf\u001b[49m\u001b[43m(\u001b[49m\u001b[43m*\u001b[49m\u001b[43margs\u001b[49m\u001b[43m,\u001b[49m\u001b[43m \u001b[49m\u001b[43m*\u001b[49m\u001b[43m*\u001b[49m\u001b[43mkwargs\u001b[49m\u001b[43m)\u001b[49m\n\u001b[32m     23\u001b[39m     te = timeit.default_timer()\n\u001b[32m     24\u001b[39m     verbose = kwargs.get(\u001b[33m'\u001b[39m\u001b[33mverbose\u001b[39m\u001b[33m'\u001b[39m, \u001b[32m1\u001b[39m)\n",
      "\u001b[36mFile \u001b[39m\u001b[32m~/SCIML/sciml/.venv/lib/python3.11/site-packages/deepxde/model.py:690\u001b[39m, in \u001b[36mModel.train\u001b[39m\u001b[34m(self, iterations, batch_size, display_every, disregard_previous_best, callbacks, model_restore_path, model_save_path, epochs, verbose)\u001b[39m\n\u001b[32m    688\u001b[39m     \u001b[38;5;28;01mif\u001b[39;00m iterations \u001b[38;5;129;01mis\u001b[39;00m \u001b[38;5;28;01mNone\u001b[39;00m:\n\u001b[32m    689\u001b[39m         \u001b[38;5;28;01mraise\u001b[39;00m \u001b[38;5;167;01mValueError\u001b[39;00m(\u001b[33m\"\u001b[39m\u001b[33mNo iterations for \u001b[39m\u001b[38;5;132;01m{}\u001b[39;00m\u001b[33m.\u001b[39m\u001b[33m\"\u001b[39m.format(\u001b[38;5;28mself\u001b[39m.opt_name))\n\u001b[32m--> \u001b[39m\u001b[32m690\u001b[39m     \u001b[38;5;28;43mself\u001b[39;49m\u001b[43m.\u001b[49m\u001b[43m_train_sgd\u001b[49m\u001b[43m(\u001b[49m\u001b[43miterations\u001b[49m\u001b[43m,\u001b[49m\u001b[43m \u001b[49m\u001b[43mdisplay_every\u001b[49m\u001b[43m,\u001b[49m\u001b[43m \u001b[49m\u001b[43mverbose\u001b[49m\u001b[43m=\u001b[49m\u001b[43mverbose\u001b[49m\u001b[43m)\u001b[49m\n\u001b[32m    691\u001b[39m \u001b[38;5;28mself\u001b[39m.callbacks.on_train_end()\n\u001b[32m    693\u001b[39m \u001b[38;5;28;01mif\u001b[39;00m verbose > \u001b[32m0\u001b[39m \u001b[38;5;129;01mand\u001b[39;00m config.rank == \u001b[32m0\u001b[39m:\n",
      "\u001b[36mFile \u001b[39m\u001b[32m~/SCIML/sciml/.venv/lib/python3.11/site-packages/deepxde/model.py:708\u001b[39m, in \u001b[36mModel._train_sgd\u001b[39m\u001b[34m(self, iterations, display_every, verbose)\u001b[39m\n\u001b[32m    703\u001b[39m \u001b[38;5;28mself\u001b[39m.callbacks.on_batch_begin()\n\u001b[32m    705\u001b[39m \u001b[38;5;28mself\u001b[39m.train_state.set_data_train(\n\u001b[32m    706\u001b[39m     *\u001b[38;5;28mself\u001b[39m.data.train_next_batch(\u001b[38;5;28mself\u001b[39m.batch_size)\n\u001b[32m    707\u001b[39m )\n\u001b[32m--> \u001b[39m\u001b[32m708\u001b[39m \u001b[38;5;28;43mself\u001b[39;49m\u001b[43m.\u001b[49m\u001b[43m_train_step\u001b[49m\u001b[43m(\u001b[49m\n\u001b[32m    709\u001b[39m \u001b[43m    \u001b[49m\u001b[38;5;28;43mself\u001b[39;49m\u001b[43m.\u001b[49m\u001b[43mtrain_state\u001b[49m\u001b[43m.\u001b[49m\u001b[43mX_train\u001b[49m\u001b[43m,\u001b[49m\n\u001b[32m    710\u001b[39m \u001b[43m    \u001b[49m\u001b[38;5;28;43mself\u001b[39;49m\u001b[43m.\u001b[49m\u001b[43mtrain_state\u001b[49m\u001b[43m.\u001b[49m\u001b[43my_train\u001b[49m\u001b[43m,\u001b[49m\n\u001b[32m    711\u001b[39m \u001b[43m    \u001b[49m\u001b[38;5;28;43mself\u001b[39;49m\u001b[43m.\u001b[49m\u001b[43mtrain_state\u001b[49m\u001b[43m.\u001b[49m\u001b[43mtrain_aux_vars\u001b[49m\u001b[43m,\u001b[49m\n\u001b[32m    712\u001b[39m \u001b[43m\u001b[49m\u001b[43m)\u001b[49m\n\u001b[32m    714\u001b[39m \u001b[38;5;28mself\u001b[39m.train_state.epoch += \u001b[32m1\u001b[39m\n\u001b[32m    715\u001b[39m \u001b[38;5;28mself\u001b[39m.train_state.step += \u001b[32m1\u001b[39m\n",
      "\u001b[36mFile \u001b[39m\u001b[32m~/SCIML/sciml/.venv/lib/python3.11/site-packages/deepxde/model.py:591\u001b[39m, in \u001b[36mModel._train_step\u001b[39m\u001b[34m(self, inputs, targets, auxiliary_vars)\u001b[39m\n\u001b[32m    589\u001b[39m \u001b[38;5;28;01mif\u001b[39;00m backend_name == \u001b[33m\"\u001b[39m\u001b[33mtensorflow.compat.v1\u001b[39m\u001b[33m\"\u001b[39m:\n\u001b[32m    590\u001b[39m     feed_dict = \u001b[38;5;28mself\u001b[39m.net.feed_dict(\u001b[38;5;28;01mTrue\u001b[39;00m, inputs, targets, auxiliary_vars)\n\u001b[32m--> \u001b[39m\u001b[32m591\u001b[39m     \u001b[38;5;28;43mself\u001b[39;49m\u001b[43m.\u001b[49m\u001b[43msess\u001b[49m\u001b[43m.\u001b[49m\u001b[43mrun\u001b[49m\u001b[43m(\u001b[49m\u001b[38;5;28;43mself\u001b[39;49m\u001b[43m.\u001b[49m\u001b[43mtrain_step\u001b[49m\u001b[43m,\u001b[49m\u001b[43m \u001b[49m\u001b[43mfeed_dict\u001b[49m\u001b[43m=\u001b[49m\u001b[43mfeed_dict\u001b[49m\u001b[43m)\u001b[49m\n\u001b[32m    592\u001b[39m \u001b[38;5;28;01melif\u001b[39;00m backend_name \u001b[38;5;129;01min\u001b[39;00m [\u001b[33m\"\u001b[39m\u001b[33mtensorflow\u001b[39m\u001b[33m\"\u001b[39m, \u001b[33m\"\u001b[39m\u001b[33mpaddle\u001b[39m\u001b[33m\"\u001b[39m]:\n\u001b[32m    593\u001b[39m     \u001b[38;5;28mself\u001b[39m.train_step(inputs, targets, auxiliary_vars)\n",
      "\u001b[36mFile \u001b[39m\u001b[32m~/SCIML/sciml/.venv/lib/python3.11/site-packages/tensorflow/python/client/session.py:968\u001b[39m, in \u001b[36mBaseSession.run\u001b[39m\u001b[34m(self, fetches, feed_dict, options, run_metadata)\u001b[39m\n\u001b[32m    965\u001b[39m run_metadata_ptr = tf_session.TF_NewBuffer() \u001b[38;5;28;01mif\u001b[39;00m run_metadata \u001b[38;5;28;01melse\u001b[39;00m \u001b[38;5;28;01mNone\u001b[39;00m\n\u001b[32m    967\u001b[39m \u001b[38;5;28;01mtry\u001b[39;00m:\n\u001b[32m--> \u001b[39m\u001b[32m968\u001b[39m   result = \u001b[38;5;28;43mself\u001b[39;49m\u001b[43m.\u001b[49m\u001b[43m_run\u001b[49m\u001b[43m(\u001b[49m\u001b[38;5;28;43;01mNone\u001b[39;49;00m\u001b[43m,\u001b[49m\u001b[43m \u001b[49m\u001b[43mfetches\u001b[49m\u001b[43m,\u001b[49m\u001b[43m \u001b[49m\u001b[43mfeed_dict\u001b[49m\u001b[43m,\u001b[49m\u001b[43m \u001b[49m\u001b[43moptions_ptr\u001b[49m\u001b[43m,\u001b[49m\n\u001b[32m    969\u001b[39m \u001b[43m                     \u001b[49m\u001b[43mrun_metadata_ptr\u001b[49m\u001b[43m)\u001b[49m\n\u001b[32m    970\u001b[39m   \u001b[38;5;28;01mif\u001b[39;00m run_metadata:\n\u001b[32m    971\u001b[39m     proto_data = tf_session.TF_GetBuffer(run_metadata_ptr)\n",
      "\u001b[36mFile \u001b[39m\u001b[32m~/SCIML/sciml/.venv/lib/python3.11/site-packages/tensorflow/python/client/session.py:1191\u001b[39m, in \u001b[36mBaseSession._run\u001b[39m\u001b[34m(self, handle, fetches, feed_dict, options, run_metadata)\u001b[39m\n\u001b[32m   1188\u001b[39m \u001b[38;5;66;03m# We only want to really perform the run if fetches or targets are provided,\u001b[39;00m\n\u001b[32m   1189\u001b[39m \u001b[38;5;66;03m# or if the call is a partial run that specifies feeds.\u001b[39;00m\n\u001b[32m   1190\u001b[39m \u001b[38;5;28;01mif\u001b[39;00m final_fetches \u001b[38;5;129;01mor\u001b[39;00m final_targets \u001b[38;5;129;01mor\u001b[39;00m (handle \u001b[38;5;129;01mand\u001b[39;00m feed_dict_tensor):\n\u001b[32m-> \u001b[39m\u001b[32m1191\u001b[39m   results = \u001b[38;5;28;43mself\u001b[39;49m\u001b[43m.\u001b[49m\u001b[43m_do_run\u001b[49m\u001b[43m(\u001b[49m\u001b[43mhandle\u001b[49m\u001b[43m,\u001b[49m\u001b[43m \u001b[49m\u001b[43mfinal_targets\u001b[49m\u001b[43m,\u001b[49m\u001b[43m \u001b[49m\u001b[43mfinal_fetches\u001b[49m\u001b[43m,\u001b[49m\n\u001b[32m   1192\u001b[39m \u001b[43m                         \u001b[49m\u001b[43mfeed_dict_tensor\u001b[49m\u001b[43m,\u001b[49m\u001b[43m \u001b[49m\u001b[43moptions\u001b[49m\u001b[43m,\u001b[49m\u001b[43m \u001b[49m\u001b[43mrun_metadata\u001b[49m\u001b[43m)\u001b[49m\n\u001b[32m   1193\u001b[39m \u001b[38;5;28;01melse\u001b[39;00m:\n\u001b[32m   1194\u001b[39m   results = []\n",
      "\u001b[36mFile \u001b[39m\u001b[32m~/SCIML/sciml/.venv/lib/python3.11/site-packages/tensorflow/python/client/session.py:1371\u001b[39m, in \u001b[36mBaseSession._do_run\u001b[39m\u001b[34m(self, handle, target_list, fetch_list, feed_dict, options, run_metadata)\u001b[39m\n\u001b[32m   1368\u001b[39m   \u001b[38;5;28;01mreturn\u001b[39;00m \u001b[38;5;28mself\u001b[39m._call_tf_sessionprun(handle, feed_dict, fetch_list)\n\u001b[32m   1370\u001b[39m \u001b[38;5;28;01mif\u001b[39;00m handle \u001b[38;5;129;01mis\u001b[39;00m \u001b[38;5;28;01mNone\u001b[39;00m:\n\u001b[32m-> \u001b[39m\u001b[32m1371\u001b[39m   \u001b[38;5;28;01mreturn\u001b[39;00m \u001b[38;5;28;43mself\u001b[39;49m\u001b[43m.\u001b[49m\u001b[43m_do_call\u001b[49m\u001b[43m(\u001b[49m\u001b[43m_run_fn\u001b[49m\u001b[43m,\u001b[49m\u001b[43m \u001b[49m\u001b[43mfeeds\u001b[49m\u001b[43m,\u001b[49m\u001b[43m \u001b[49m\u001b[43mfetches\u001b[49m\u001b[43m,\u001b[49m\u001b[43m \u001b[49m\u001b[43mtargets\u001b[49m\u001b[43m,\u001b[49m\u001b[43m \u001b[49m\u001b[43moptions\u001b[49m\u001b[43m,\u001b[49m\n\u001b[32m   1372\u001b[39m \u001b[43m                       \u001b[49m\u001b[43mrun_metadata\u001b[49m\u001b[43m)\u001b[49m\n\u001b[32m   1373\u001b[39m \u001b[38;5;28;01melse\u001b[39;00m:\n\u001b[32m   1374\u001b[39m   \u001b[38;5;28;01mreturn\u001b[39;00m \u001b[38;5;28mself\u001b[39m._do_call(_prun_fn, handle, feeds, fetches)\n",
      "\u001b[36mFile \u001b[39m\u001b[32m~/SCIML/sciml/.venv/lib/python3.11/site-packages/tensorflow/python/client/session.py:1378\u001b[39m, in \u001b[36mBaseSession._do_call\u001b[39m\u001b[34m(self, fn, *args)\u001b[39m\n\u001b[32m   1376\u001b[39m \u001b[38;5;28;01mdef\u001b[39;00m\u001b[38;5;250m \u001b[39m\u001b[34m_do_call\u001b[39m(\u001b[38;5;28mself\u001b[39m, fn, *args):\n\u001b[32m   1377\u001b[39m   \u001b[38;5;28;01mtry\u001b[39;00m:\n\u001b[32m-> \u001b[39m\u001b[32m1378\u001b[39m     \u001b[38;5;28;01mreturn\u001b[39;00m \u001b[43mfn\u001b[49m\u001b[43m(\u001b[49m\u001b[43m*\u001b[49m\u001b[43margs\u001b[49m\u001b[43m)\u001b[49m\n\u001b[32m   1379\u001b[39m   \u001b[38;5;28;01mexcept\u001b[39;00m errors.OpError \u001b[38;5;28;01mas\u001b[39;00m e:\n\u001b[32m   1380\u001b[39m     message = compat.as_text(e.message)\n",
      "\u001b[36mFile \u001b[39m\u001b[32m~/SCIML/sciml/.venv/lib/python3.11/site-packages/tensorflow/python/client/session.py:1361\u001b[39m, in \u001b[36mBaseSession._do_run.<locals>._run_fn\u001b[39m\u001b[34m(feed_dict, fetch_list, target_list, options, run_metadata)\u001b[39m\n\u001b[32m   1358\u001b[39m \u001b[38;5;28;01mdef\u001b[39;00m\u001b[38;5;250m \u001b[39m\u001b[34m_run_fn\u001b[39m(feed_dict, fetch_list, target_list, options, run_metadata):\n\u001b[32m   1359\u001b[39m   \u001b[38;5;66;03m# Ensure any changes to the graph are reflected in the runtime.\u001b[39;00m\n\u001b[32m   1360\u001b[39m   \u001b[38;5;28mself\u001b[39m._extend_graph()\n\u001b[32m-> \u001b[39m\u001b[32m1361\u001b[39m   \u001b[38;5;28;01mreturn\u001b[39;00m \u001b[38;5;28;43mself\u001b[39;49m\u001b[43m.\u001b[49m\u001b[43m_call_tf_sessionrun\u001b[49m\u001b[43m(\u001b[49m\u001b[43moptions\u001b[49m\u001b[43m,\u001b[49m\u001b[43m \u001b[49m\u001b[43mfeed_dict\u001b[49m\u001b[43m,\u001b[49m\u001b[43m \u001b[49m\u001b[43mfetch_list\u001b[49m\u001b[43m,\u001b[49m\n\u001b[32m   1362\u001b[39m \u001b[43m                                  \u001b[49m\u001b[43mtarget_list\u001b[49m\u001b[43m,\u001b[49m\u001b[43m \u001b[49m\u001b[43mrun_metadata\u001b[49m\u001b[43m)\u001b[49m\n",
      "\u001b[36mFile \u001b[39m\u001b[32m~/SCIML/sciml/.venv/lib/python3.11/site-packages/tensorflow/python/client/session.py:1454\u001b[39m, in \u001b[36mBaseSession._call_tf_sessionrun\u001b[39m\u001b[34m(self, options, feed_dict, fetch_list, target_list, run_metadata)\u001b[39m\n\u001b[32m   1452\u001b[39m \u001b[38;5;28;01mdef\u001b[39;00m\u001b[38;5;250m \u001b[39m\u001b[34m_call_tf_sessionrun\u001b[39m(\u001b[38;5;28mself\u001b[39m, options, feed_dict, fetch_list, target_list,\n\u001b[32m   1453\u001b[39m                         run_metadata):\n\u001b[32m-> \u001b[39m\u001b[32m1454\u001b[39m   \u001b[38;5;28;01mreturn\u001b[39;00m \u001b[43mtf_session\u001b[49m\u001b[43m.\u001b[49m\u001b[43mTF_SessionRun_wrapper\u001b[49m\u001b[43m(\u001b[49m\u001b[38;5;28;43mself\u001b[39;49m\u001b[43m.\u001b[49m\u001b[43m_session\u001b[49m\u001b[43m,\u001b[49m\u001b[43m \u001b[49m\u001b[43moptions\u001b[49m\u001b[43m,\u001b[49m\u001b[43m \u001b[49m\u001b[43mfeed_dict\u001b[49m\u001b[43m,\u001b[49m\n\u001b[32m   1455\u001b[39m \u001b[43m                                          \u001b[49m\u001b[43mfetch_list\u001b[49m\u001b[43m,\u001b[49m\u001b[43m \u001b[49m\u001b[43mtarget_list\u001b[49m\u001b[43m,\u001b[49m\n\u001b[32m   1456\u001b[39m \u001b[43m                                          \u001b[49m\u001b[43mrun_metadata\u001b[49m\u001b[43m)\u001b[49m\n",
      "\u001b[31mKeyboardInterrupt\u001b[39m: "
     ]
    }
   ],
   "source": [
    "# Train model with monitoring\n",
    "checker = dde.callbacks.ModelCheckpoint(\n",
    "    \"model/model.ckpt\", save_better_only=True, period=1000\n",
    ")\n",
    "monitor = TrainingMonitor()\n",
    "logger.info(\"Starting Adam optimization...\")\n",
    "with tqdm(total=10000, desc=\"Training (Adam)\") as pbar:\n",
    "    losshistory, train_state = model.train(\n",
    "        iterations=10000,  # Using iterations instead of deprecated epochs\n",
    "        batch_size=256,\n",
    "        callbacks=[checker, monitor],\n",
    "        display_every=1,\n",
    "        disregard_previous_best=True\n",
    "    )\n",
    "    pbar.update(10000)"
   ]
  },
  {
   "cell_type": "code",
   "execution_count": null,
   "id": "264dcee5",
   "metadata": {
    "title": "[code]"
   },
   "outputs": [],
   "source": [
    "# L-BFGS optimization with monitoring\n",
    "logger.info(\"Starting L-BFGS optimization...\")\n",
    "model.compile(\"L-BFGS-B\")\n",
    "dde.optimizers.set_LBFGS_options(maxcor=50)\n",
    "with tqdm(total=10000, desc=\"Training (L-BFGS)\") as pbar:\n",
    "    losshistory, train_state = model.train(\n",
    "        iterations=10000,  # Using iterations instead of deprecated epochs\n",
    "        batch_size=256,\n",
    "        display_every=100\n",
    "    )\n",
    "    pbar.update(10000)"
   ]
  },
  {
   "cell_type": "code",
   "execution_count": null,
   "id": "c1db76fb",
   "metadata": {
    "title": "[code]"
   },
   "outputs": [],
   "source": [
    "# Save and plot results\n",
    "save_path = \"results/xde/\"\n",
    "os.makedirs(save_path, exist_ok=True)\n",
    "dde.saveplot(losshistory, train_state, issave=True, isplot=True, save_path=save_path)\n",
    "\n",
    "plt.figure(figsize=(10, 6))\n",
    "plt.semilogy(losshistory.steps, losshistory.loss_train, label=\"Training loss\")\n",
    "plt.semilogy(losshistory.steps, losshistory.loss_test, label=\"Testing loss\")\n",
    "plt.xlabel(\"Iterations\")\n",
    "plt.ylabel(\"Loss\")\n",
    "plt.legend()\n",
    "plt.grid(True)\n",
    "timestamp = datetime.now().strftime('%Y-%m-%d_%H-%M-%S')\n",
    "plt.savefig(os.path.join(save_path, f\"deep_xde_baseline_{timestamp}.png\"))\n",
    "plt.show()\n",
    "\n",
    "logger.info(f\"Training completed. Final loss: {train_state.loss:.6f}\")\n",
    "logger.info(f\"Results saved to {save_path}\")"
   ]
  }
 ],
 "metadata": {
  "kernelspec": {
   "display_name": ".venv",
   "language": "python",
   "name": "python3"
  },
  "language_info": {
   "name": "python",
   "version": "3.11.11"
  }
 },
 "nbformat": 4,
 "nbformat_minor": 5
}
