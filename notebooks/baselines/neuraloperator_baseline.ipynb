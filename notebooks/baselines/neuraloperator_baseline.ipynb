{
 "cells": [
  {
   "cell_type": "markdown",
   "id": "e879a948",
   "metadata": {},
   "source": [
    "# Neural Operator Baseline for Heat Equation\n",
    "This notebook implements a Fourier Neural Operator (FNO) model using neuraloperator to solve the 2D heat equation."
   ]
  },
  {
   "cell_type": "code",
   "execution_count": 20,
   "id": "f0c7f9d2",
   "metadata": {
    "title": "[code]"
   },
   "outputs": [
    {
     "name": "stderr",
     "output_type": "stream",
     "text": [
      "INFO:__main__:Using GPU: NVIDIA GeForce RTX 4060 Laptop GPU\n"
     ]
    }
   ],
   "source": [
    "import torch\n",
    "import numpy as np\n",
    "import matplotlib.pyplot as plt\n",
    "import os\n",
    "from tqdm.notebook import tqdm\n",
    "from datetime import datetime\n",
    "import logging\n",
    "from neuralop.models import TFNO2d\n",
    "from neuralop import Trainer\n",
    "\n",
    "# Configure logging\n",
    "logging.basicConfig(level=logging.INFO)\n",
    "logger = logging.getLogger(__name__)\n",
    "\n",
    "# Check for GPU availability and configure device\n",
    "device = torch.device(\"cuda\" if torch.cuda.is_available() else \"cpu\")\n",
    "if torch.cuda.is_available():\n",
    "    logger.info(f\"Using GPU: {torch.cuda.get_device_name()}\")\n",
    "else:\n",
    "    logger.warning(\"CUDA is not available, using CPU\")"
   ]
  },
  {
   "cell_type": "code",
   "execution_count": 21,
   "id": "55f4c864",
   "metadata": {
    "lines_to_next_cell": 1,
    "title": "[code]"
   },
   "outputs": [],
   "source": [
    "# Define parameters\n",
    "nx = 30  # Number of points in x direction\n",
    "ny = 30  # Number of points in y direction\n",
    "alpha = 0.05  # Diffusion coefficient\n",
    "t1 = 0  # Initial temperature at x=0\n",
    "t2 = 1  # Initial temperature at x=1\n",
    "end_time = 1  # End time"
   ]
  },
  {
   "cell_type": "code",
   "execution_count": 22,
   "id": "18e5e132",
   "metadata": {
    "lines_to_next_cell": 1,
    "title": "[code]"
   },
   "outputs": [],
   "source": [
    "# Generate training data\n",
    "def generate_data(n_samples=1000):\n",
    "    # Create grid\n",
    "    x = np.linspace(0, 1, nx)\n",
    "    y = np.linspace(0, 1, ny)\n",
    "    t = np.linspace(0, end_time, 50)\n",
    "    X, Y = np.meshgrid(x, y)\n",
    "    \n",
    "    # Initialize data arrays\n",
    "    inputs = np.zeros((n_samples, 1, nx, ny))\n",
    "    outputs = np.zeros((n_samples, 1, nx, ny))\n",
    "    \n",
    "    # Generate initial conditions\n",
    "    for i in range(n_samples):\n",
    "        init_cond = np.where(X < 0.5, t1, t1 + 2 * (X - 0.5))\n",
    "        inputs[i, 0] = init_cond\n",
    "        \n",
    "        # Simple forward time stepping for output\n",
    "        outputs[i, 0] = init_cond + alpha * (\n",
    "            np.roll(init_cond, 1, axis=0) + \n",
    "            np.roll(init_cond, -1, axis=0) + \n",
    "            np.roll(init_cond, 1, axis=1) + \n",
    "            np.roll(init_cond, -1, axis=1) - \n",
    "            4 * init_cond\n",
    "        )\n",
    "    \n",
    "    return torch.FloatTensor(inputs).to(device), torch.FloatTensor(outputs).to(device)"
   ]
  },
  {
   "cell_type": "code",
   "execution_count": 23,
   "id": "cc805fb0",
   "metadata": {
    "title": "[code]"
   },
   "outputs": [],
   "source": [
    "# Create model\n",
    "model = TFNO2d(\n",
    "    n_modes_width=16,\n",
    "    n_modes_height=16,\n",
    "    hidden_channels=32,\n",
    "    in_channels=1,\n",
    "    out_channels=1,\n",
    "    projection_channels=64,\n",
    "    factorization='tucker',\n",
    "    implementation='factorized'\n",
    ").to(device)\n",
    "\n",
    "# Generate data\n",
    "train_x, train_y = generate_data(1000)\n",
    "test_x, test_y = generate_data(100)\n",
    "\n",
    "# Configure trainer\n",
    "trainer = Trainer(\n",
    "    model=model,\n",
    "    n_epochs=100,\n",
    "    device=device\n",
    ")"
   ]
  },
  {
   "cell_type": "code",
   "execution_count": 26,
   "id": "b5c67c3a",
   "metadata": {
    "title": "[code]"
   },
   "outputs": [
    {
     "name": "stderr",
     "output_type": "stream",
     "text": [
      "INFO:__main__:Starting training...\n"
     ]
    },
    {
     "ename": "AttributeError",
     "evalue": "'Tensor' object has no attribute 'items'",
     "output_type": "error",
     "traceback": [
      "\u001b[31m---------------------------------------------------------------------------\u001b[39m",
      "\u001b[31mAttributeError\u001b[39m                            Traceback (most recent call last)",
      "\u001b[36mCell\u001b[39m\u001b[36m \u001b[39m\u001b[32mIn[26]\u001b[39m\u001b[32m, line 12\u001b[39m\n\u001b[32m      9\u001b[39m scheduler = torch.optim.lr_scheduler.CosineAnnealingLR(optimizer, T_max=\u001b[32m100\u001b[39m)\n\u001b[32m     11\u001b[39m \u001b[38;5;66;03m# Train model\u001b[39;00m\n\u001b[32m---> \u001b[39m\u001b[32m12\u001b[39m history = \u001b[43mtrainer\u001b[49m\u001b[43m.\u001b[49m\u001b[43mtrain\u001b[49m\u001b[43m(\u001b[49m\n\u001b[32m     13\u001b[39m \u001b[43m    \u001b[49m\u001b[43m(\u001b[49m\u001b[43mtrain_x\u001b[49m\u001b[43m,\u001b[49m\u001b[43m \u001b[49m\u001b[43mtrain_y\u001b[49m\u001b[43m)\u001b[49m\u001b[43m,\u001b[49m\n\u001b[32m     14\u001b[39m \u001b[43m    \u001b[49m\u001b[43mtest_loaders\u001b[49m\u001b[43m,\u001b[49m\n\u001b[32m     15\u001b[39m \u001b[43m    \u001b[49m\u001b[43moptimizer\u001b[49m\u001b[43m=\u001b[49m\u001b[43moptimizer\u001b[49m\u001b[43m,\u001b[49m\n\u001b[32m     16\u001b[39m \u001b[43m    \u001b[49m\u001b[43mscheduler\u001b[49m\u001b[43m=\u001b[49m\u001b[43mscheduler\u001b[49m\u001b[43m,\u001b[49m\n\u001b[32m     17\u001b[39m \u001b[43m    \u001b[49m\u001b[43mregularizer\u001b[49m\u001b[43m=\u001b[49m\u001b[38;5;28;43;01mNone\u001b[39;49;00m\n\u001b[32m     18\u001b[39m \u001b[43m)\u001b[49m\n",
      "\u001b[36mFile \u001b[39m\u001b[32m~/SCIML/sciml/.venv/lib/python3.11/site-packages/neuralop/training/trainer.py:152\u001b[39m, in \u001b[36mTrainer.train\u001b[39m\u001b[34m(self, train_loader, test_loaders, optimizer, scheduler, regularizer, training_loss, eval_losses)\u001b[39m\n\u001b[32m    149\u001b[39m     sample = \u001b[38;5;28mself\u001b[39m.data_processor.preprocess(sample)\n\u001b[32m    150\u001b[39m \u001b[38;5;28;01melse\u001b[39;00m:\n\u001b[32m    151\u001b[39m     \u001b[38;5;66;03m# load data to device if no preprocessor exists\u001b[39;00m\n\u001b[32m--> \u001b[39m\u001b[32m152\u001b[39m     sample = {k:v.to(\u001b[38;5;28mself\u001b[39m.device) \u001b[38;5;28;01mfor\u001b[39;00m k,v \u001b[38;5;129;01min\u001b[39;00m \u001b[43msample\u001b[49m\u001b[43m.\u001b[49m\u001b[43mitems\u001b[49m() \u001b[38;5;28;01mif\u001b[39;00m torch.is_tensor(v)}\n\u001b[32m    154\u001b[39m \u001b[38;5;28;01mif\u001b[39;00m \u001b[38;5;28mself\u001b[39m.amp_autocast:\n\u001b[32m    155\u001b[39m     \u001b[38;5;28;01mwith\u001b[39;00m amp.autocast(enabled=\u001b[38;5;28;01mTrue\u001b[39;00m):\n",
      "\u001b[31mAttributeError\u001b[39m: 'Tensor' object has no attribute 'items'"
     ]
    }
   ],
   "source": [
    "# Train model\n",
    "logger.info(\"Starting training...\")\n",
    "\n",
    "# Create test loader dictionary\n",
    "test_loaders = {'test': (test_x, test_y)}\n",
    "\n",
    "# Define optimizer and scheduler\n",
    "optimizer = torch.optim.Adam(model.parameters(), lr=1e-3)\n",
    "scheduler = torch.optim.lr_scheduler.CosineAnnealingLR(optimizer, T_max=100)\n",
    "\n",
    "# Train model\n",
    "history = trainer.train(\n",
    "    (train_x, train_y),\n",
    "    test_loaders,\n",
    "    optimizer=optimizer,\n",
    "    scheduler=scheduler,\n",
    "    regularizer=None\n",
    ")"
   ]
  },
  {
   "cell_type": "code",
   "execution_count": 18,
   "id": "a99ab5ef",
   "metadata": {
    "title": "[code]"
   },
   "outputs": [
    {
     "ename": "NameError",
     "evalue": "name 'history' is not defined",
     "output_type": "error",
     "traceback": [
      "\u001b[31m---------------------------------------------------------------------------\u001b[39m",
      "\u001b[31mNameError\u001b[39m                                 Traceback (most recent call last)",
      "\u001b[36mCell\u001b[39m\u001b[36m \u001b[39m\u001b[32mIn[18]\u001b[39m\u001b[32m, line 6\u001b[39m\n\u001b[32m      3\u001b[39m os.makedirs(save_path, exist_ok=\u001b[38;5;28;01mTrue\u001b[39;00m)\n\u001b[32m      5\u001b[39m plt.figure(figsize=(\u001b[32m10\u001b[39m, \u001b[32m6\u001b[39m))\n\u001b[32m----> \u001b[39m\u001b[32m6\u001b[39m plt.semilogy(\u001b[43mhistory\u001b[49m[\u001b[33m'\u001b[39m\u001b[33mtrain_loss\u001b[39m\u001b[33m'\u001b[39m], label=\u001b[33m\"\u001b[39m\u001b[33mTraining loss\u001b[39m\u001b[33m\"\u001b[39m)\n\u001b[32m      7\u001b[39m plt.semilogy(history[\u001b[33m'\u001b[39m\u001b[33mtest_loss\u001b[39m\u001b[33m'\u001b[39m], label=\u001b[33m\"\u001b[39m\u001b[33mTesting loss\u001b[39m\u001b[33m\"\u001b[39m)\n\u001b[32m      8\u001b[39m plt.xlabel(\u001b[33m\"\u001b[39m\u001b[33mEpochs\u001b[39m\u001b[33m\"\u001b[39m)\n",
      "\u001b[31mNameError\u001b[39m: name 'history' is not defined"
     ]
    },
    {
     "data": {
      "text/plain": [
       "<Figure size 1000x600 with 0 Axes>"
      ]
     },
     "metadata": {},
     "output_type": "display_data"
    }
   ],
   "source": [
    "# Save and plot results\n",
    "save_path = \"results/neuralop/\"\n",
    "os.makedirs(save_path, exist_ok=True)\n",
    "\n",
    "plt.figure(figsize=(10, 6))\n",
    "plt.semilogy(history['train_loss'], label=\"Training loss\")\n",
    "plt.semilogy(history['test_loss'], label=\"Testing loss\")\n",
    "plt.xlabel(\"Epochs\")\n",
    "plt.ylabel(\"Loss\")\n",
    "plt.legend()\n",
    "plt.grid(True)\n",
    "timestamp = datetime.now().strftime('%Y-%m-%d_%H-%M-%S')\n",
    "plt.savefig(os.path.join(save_path, f\"neural_operator_baseline_{timestamp}.png\"))\n",
    "plt.show()\n",
    "\n",
    "# Save model\n",
    "torch.save(model.state_dict(), os.path.join(save_path, f\"model_{timestamp}.pt\"))\n",
    "\n",
    "logger.info(f\"Training completed. Final train loss: {history['train_loss'][-1]:.6f}\")\n",
    "logger.info(f\"Final test loss: {history['test_loss'][-1]:.6f}\")\n",
    "logger.info(f\"Results saved to {save_path}\")"
   ]
  },
  {
   "cell_type": "code",
   "execution_count": null,
   "id": "014f355b",
   "metadata": {},
   "outputs": [],
   "source": []
  }
 ],
 "metadata": {
  "kernelspec": {
   "display_name": ".venv",
   "language": "python",
   "name": "python3"
  },
  "language_info": {
   "codemirror_mode": {
    "name": "ipython",
    "version": 3
   },
   "file_extension": ".py",
   "mimetype": "text/x-python",
   "name": "python",
   "nbconvert_exporter": "python",
   "pygments_lexer": "ipython3",
   "version": "3.11.11"
  }
 },
 "nbformat": 4,
 "nbformat_minor": 5
}
