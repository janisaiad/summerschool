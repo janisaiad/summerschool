{
 "cells": [
  {
   "cell_type": "code",
   "execution_count": 14,
   "id": "9752a62a",
   "metadata": {
    "lines_to_next_cell": 0
   },
   "outputs": [],
   "source": [
    "from sciml.model.fno import FNO\n",
    "import tensorflow as tf\n",
    "import numpy as np\n",
    "import matplotlib.pyplot as plt\n",
    "tf.config.list_physical_devices('GPU')\n",
    "import os\n",
    "from datetime import datetime"
   ]
  },
  {
   "cell_type": "code",
   "execution_count": 15,
   "id": "38f025b0",
   "metadata": {
    "lines_to_next_cell": 2
   },
   "outputs": [],
   "source": [
    "nb_xi = 2 # can be deduced from mu because it's len(mu.shape) - 1\n",
    "p_1 = 30 # dimension of scheme for xi for all i\n",
    "p_2 = 30 # dimension of scheme for xi for all i\n",
    "p_3 = 30 # dimension of scheme for xi for all i\n",
    "epochs = 5\n",
    "index = 450\n",
    "n_modes = p_1\n",
    "n_layers = 4 # need to be low because there is a low difference between the with time\n",
    "alpha = 0.5\n",
    "best_loss = 0.00005\n",
    "activation = 'relu'\n",
    "kernel_initializer = 'he_normal'\n",
    "device = \"GPU\"\n",
    "n_epochs = epochs\n"
   ]
  },
  {
   "cell_type": "code",
   "execution_count": 16,
   "id": "ddf87c97",
   "metadata": {
    "lines_to_end_of_cell_marker": 2
   },
   "outputs": [],
   "source": [
    "# inputs are of the form [batch, p_1, p_1, nd_xi +1] for nb_xi=2 (+1 because of the mu=f(x))\n",
    "\n",
    "first_network = tf.keras.Sequential([\n",
    "    tf.keras.layers.Input(shape=(p_1, p_1,)),  # [batch, p_1, p_1, 3]\n",
    "    tf.keras.layers.Flatten(),  # [batch, p_1*p_1*3]\n",
    "    tf.keras.layers.Dense(256, activation='relu'),\n",
    "    tf.keras.layers.Dense(128, activation='relu'),\n",
    "    tf.keras.layers.Dense(p_1 * p_1, activation='relu'),\n",
    "    tf.keras.layers.Reshape((p_1, p_1,))  # [batch, p_1, p_1, p_2]\n",
    "])\n",
    "\n",
    "last_network = tf.keras.Sequential([\n",
    "    tf.keras.layers.Input(shape=(p_1, p_1,)),  # [batch, p_1, p_1, 3]\n",
    "    tf.keras.layers.Flatten(),  # [batch, p_1*p_1*3]\n",
    "    tf.keras.layers.Dense(64, activation='relu'),\n",
    "    tf.keras.layers.Dense(32, activation='relu'),\n",
    "    tf.keras.layers.Dense(p_1 * p_1 * (1), activation='linear'),\n",
    "    tf.keras.layers.Reshape((p_1, p_1,))  # [batch, p_1, p_1, 3]\n",
    "])\n",
    "\n",
    "\n",
    "# first network graph:\n",
    "# [batch, p_1, p_1, 3] -> [batch, p_1*p_1*3] -> [batch, 512] -> [batch, 256] -> [batch, p_1*p_1*p_2] -> [batch, p_1, p_1, p_2]\n",
    "# last network graph:  \n",
    "# [batch, p_1, p_1, 3] -> [batch, p_1*p_1*3] -> [batch, 256] -> [batch, 512] -> [batch, p_1*p_1*3] -> [batch, p_1, p_1, 3]"
   ]
  },
  {
   "cell_type": "code",
   "execution_count": 17,
   "id": "4389c7c4",
   "metadata": {},
   "outputs": [],
   "source": [
    "folder_path = \"data/test_data/big_dataset_fno/heat2d/\""
   ]
  },
  {
   "cell_type": "code",
   "execution_count": 18,
   "id": "88ebba4b",
   "metadata": {},
   "outputs": [
    {
     "name": "stderr",
     "output_type": "stream",
     "text": [
      "2025-03-17 01:49:11,546 - sciml.model.fno.fno - INFO - Model initialized with 5 epochs, 32 batch size, 0.001 learning rate\n"
     ]
    }
   ],
   "source": [
    "model = FNO(regular_params={\"first_network\": first_network, \"last_network\": last_network},fourier_params={\"n_layers\": n_layers, \"dim_coords\":2, \"n_modes\": n_modes, \"activation\": activation, \"kernel_initializer\": kernel_initializer}, hyper_params={\"p_1\": p_1, \"p_2\": p_2,'p_3':p_3,\"device\": device,\"n_epochs\":n_epochs,\"index\":index,\"alpha\":alpha,\"folder_path\":folder_path,\"best_loss\":best_loss})"
   ]
  },
  {
   "cell_type": "code",
   "execution_count": 19,
   "id": "a22e9e81",
   "metadata": {
    "lines_to_next_cell": 2
   },
   "outputs": [],
   "source": [
    "os.makedirs('results/fnograph', exist_ok=True)"
   ]
  },
  {
   "cell_type": "code",
   "execution_count": 20,
   "id": "743fd78d",
   "metadata": {},
   "outputs": [],
   "source": [
    "date = datetime.now().strftime(\"%Y%m%d_%H%M%S\")"
   ]
  },
  {
   "cell_type": "code",
   "execution_count": 21,
   "id": "b67eab84",
   "metadata": {
    "lines_to_next_cell": 2
   },
   "outputs": [
    {
     "data": {
      "text/plain": [
       "\"\\ntf.keras.utils.plot_model(model, \\n                         to_file=f'results/fno/model_graph_{date}.png',\\n                         show_shapes=True, \\n                         show_layer_names=True)\\n\""
      ]
     },
     "execution_count": 21,
     "metadata": {},
     "output_type": "execute_result"
    }
   ],
   "source": [
    "'''\n",
    "tf.keras.utils.plot_model(model, \n",
    "                         to_file=f'results/fno/model_graph_{date}.png',\n",
    "                         show_shapes=True, \n",
    "                         show_layer_names=True)\n",
    "'''\n",
    "# we create a txt file to save the model summary"
   ]
  },
  {
   "cell_type": "markdown",
   "id": "49ed18d2",
   "metadata": {},
   "source": [
    "print(\"Model visualization and summary saved to results/fno/\")\n",
    "+\n",
    "mus, sol = model.get_data_partial(folder_path,alpha=alpha)"
   ]
  },
  {
   "cell_type": "code",
   "execution_count": 22,
   "id": "ca68b09f",
   "metadata": {},
   "outputs": [],
   "source": [
    "# print(mus.shape)\n",
    "# print(sol.shape)"
   ]
  },
  {
   "cell_type": "code",
   "execution_count": 23,
   "id": "b9d72bf6",
   "metadata": {},
   "outputs": [],
   "source": [
    "# import logging\n",
    "tf.get_logger().setLevel('ERROR')\n",
    "# Ajouter en haut du notebook pour désactiver tout le logging\n",
    "# logging.getLogger().setLevel(logging.ERROR)  # Ne montrera que les erreurs graves"
   ]
  },
  {
   "cell_type": "code",
   "execution_count": 24,
   "id": "b994dc86",
   "metadata": {
    "lines_to_next_cell": 2
   },
   "outputs": [
    {
     "name": "stderr",
     "output_type": "stream",
     "text": [
      "2025-03-17 01:49:19,913 - sciml.model.fno.fno - INFO - === Partial Training Started ===\n",
      "2025-03-17 01:49:19,934 - sciml.model.fno.fno - INFO - Model Configuration:\n",
      "2025-03-17 01:49:19,935 - sciml.model.fno.fno - INFO - Hyperparameters: {\n",
      "  \"p_1\": 30,\n",
      "  \"p_2\": 30,\n",
      "  \"p_3\": 30,\n",
      "  \"device\": \"GPU\",\n",
      "  \"n_epochs\": 5,\n",
      "  \"index\": 450,\n",
      "  \"alpha\": 0.5,\n",
      "  \"folder_path\": \"data/test_data/big_dataset_fno/heat2d/\",\n",
      "  \"best_loss\": 5e-05\n",
      "}\n",
      "2025-03-17 01:49:19,936 - sciml.model.fno.fno - INFO - Fourier Parameters: {\n",
      "  \"n_layers\": 4,\n",
      "  \"dim_coords\": 2,\n",
      "  \"n_modes\": 30,\n",
      "  \"activation\": \"relu\",\n",
      "  \"kernel_initializer\": \"he_normal\"\n",
      "}\n",
      "2025-03-17 01:49:19,938 - sciml.model.fno.fno - INFO - Data Shape - Inputs: (500, 30, 30), Solutions: (500, 30, 30)\n",
      "2025-03-17 01:49:19,939 - sciml.model.fno.fno - INFO - Alpha (partial training fraction): 0.5\n",
      "2025-03-17 01:49:19,940 - sciml.model.fno.fno - INFO - Device: GPU\n",
      "2025-03-17 01:49:19.980771: I tensorflow/core/common_runtime/executor.cc:1197] [/device:CPU:0] (DEBUG INFO) Executor start aborting (this does not indicate an error and you can ignore this message): INVALID_ARGUMENT: You must feed a value for placeholder tensor 'Placeholder/_1' with dtype float and shape [500,30,30]\n",
      "\t [[{{node Placeholder/_1}}]]\n",
      "Training progress:   0%|          | 0/5 [00:00<?, ?it/s]2025-03-17 01:49:20.141739: I tensorflow/core/common_runtime/executor.cc:1197] [/device:CPU:0] (DEBUG INFO) Executor start aborting (this does not indicate an error and you can ignore this message): INVALID_ARGUMENT: You must feed a value for placeholder tensor 'Placeholder/_1' with dtype float and shape [400,30,30]\n",
      "\t [[{{node Placeholder/_1}}]]\n",
      "2025-03-17 01:49:21.817770: I tensorflow/core/common_runtime/executor.cc:1197] [/device:CPU:0] (DEBUG INFO) Executor start aborting (this does not indicate an error and you can ignore this message): INVALID_ARGUMENT: You must feed a value for placeholder tensor 'Placeholder/_1' with dtype float and shape [100,30,30]\n",
      "\t [[{{node Placeholder/_1}}]]\n",
      "2025-03-17 01:49:21,950 - sciml.model.fno.fno - INFO - Epoch 1/5\n",
      "2025-03-17 01:49:21,951 - sciml.model.fno.fno - INFO - Training Loss: 0.085945\n",
      "2025-03-17 01:49:21,952 - sciml.model.fno.fno - INFO - Test Loss: 0.069455\n",
      "Training progress:  20%|██        | 1/5 [00:01<00:07,  1.81s/it]2025-03-17 01:49:23,317 - sciml.model.fno.fno - INFO - Epoch 2/5\n",
      "2025-03-17 01:49:23,317 - sciml.model.fno.fno - INFO - Training Loss: 0.074287\n",
      "2025-03-17 01:49:23,318 - sciml.model.fno.fno - INFO - Test Loss: 0.055372\n",
      "Training progress:  40%|████      | 2/5 [00:03<00:04,  1.55s/it]2025-03-17 01:49:24,679 - sciml.model.fno.fno - INFO - Epoch 3/5\n",
      "2025-03-17 01:49:24,681 - sciml.model.fno.fno - INFO - Training Loss: 0.054294\n",
      "2025-03-17 01:49:24,682 - sciml.model.fno.fno - INFO - Test Loss: 0.034012\n",
      "Training progress:  60%|██████    | 3/5 [00:04<00:02,  1.46s/it]2025-03-17 01:49:26,017 - sciml.model.fno.fno - INFO - Epoch 4/5\n",
      "2025-03-17 01:49:26,017 - sciml.model.fno.fno - INFO - Training Loss: 0.028952\n",
      "2025-03-17 01:49:26,018 - sciml.model.fno.fno - INFO - Test Loss: 0.017291\n",
      "Training progress:  80%|████████  | 4/5 [00:05<00:01,  1.41s/it]2025-03-17 01:49:27,335 - sciml.model.fno.fno - INFO - Epoch 5/5\n",
      "2025-03-17 01:49:27,336 - sciml.model.fno.fno - INFO - Training Loss: 0.015766\n",
      "2025-03-17 01:49:27,336 - sciml.model.fno.fno - INFO - Test Loss: 0.018730\n",
      "Training progress: 100%|██████████| 5/5 [00:07<00:00,  1.44s/it]\n",
      "2025-03-17 01:49:27,339 - sciml.model.fno.fno - ERROR - Failed to save weights: [Errno 2] No such file or directory: 'data/weights/fno/loss_history_train_2025-03-17_01-49-27.json'\n",
      "2025-03-17 01:49:27,342 - sciml.model.fno.fno - INFO - === Partial Training Completed ===\n",
      "2025-03-17 01:49:27,343 - sciml.model.fno.fno - INFO - Final Training Loss: 0.015766\n",
      "2025-03-17 01:49:27,344 - sciml.model.fno.fno - INFO - Final Test Loss: 0.018730\n"
     ]
    },
    {
     "name": "stdout",
     "output_type": "stream",
     "text": [
      "Failed to save weights\n"
     ]
    }
   ],
   "source": [
    "loss_history_train,loss_history_test = model.fit_partial(save_weights=True)"
   ]
  },
  {
   "cell_type": "code",
   "execution_count": 25,
   "id": "c8a18f13",
   "metadata": {},
   "outputs": [
    {
     "name": "stdout",
     "output_type": "stream",
     "text": [
      "Error saving model summary: This model has not yet been built. Build the model first by calling `build()` or by calling the model on a batch of data.\n"
     ]
    }
   ],
   "source": [
    "try:\n",
    "    with open(f'results/fnograph/model_summary_{date}.txt', 'w') as f:\n",
    "        model.summary(print_fn=lambda x: f.write(x + '\\n'))\n",
    "except Exception as e:\n",
    "    print(f\"Error saving model summary: {e}\")\n",
    "    pass"
   ]
  },
  {
   "cell_type": "code",
   "execution_count": 26,
   "id": "a96ae575",
   "metadata": {},
   "outputs": [
    {
     "name": "stdout",
     "output_type": "stream",
     "text": [
      "5\n",
      "5\n"
     ]
    }
   ],
   "source": [
    "print(len(loss_history_train))\n",
    "print(len(loss_history_test))"
   ]
  },
  {
   "cell_type": "code",
   "execution_count": 27,
   "id": "97b26d12",
   "metadata": {},
   "outputs": [
    {
     "data": {
      "image/png": "[encoded data removed]",
      "text/plain": [
       "<Figure size 640x480 with 1 Axes>"
      ]
     },
     "metadata": {},
     "output_type": "display_data"
    }
   ],
   "source": [
    "from datetime import datetime\n",
    "plt.plot(loss_history_train,color='blue')\n",
    "plt.plot(loss_history_test,color='red')\n",
    "plt.legend(['Train','Test'])\n",
    "plt.xlabel('Epoch')\n",
    "plt.ylabel('Loss')\n",
    "plt.yscale('log')\n",
    "plt.grid()\n",
    "date = datetime.now().strftime(\"%Y%m%d_%H%M%S\")\n",
    "plt.savefig(f'results/loss_history_fno{date}.png')\n",
    "plt.show()"
   ]
  },
  {
   "cell_type": "code",
   "execution_count": null,
   "id": "53494d31",
   "metadata": {},
   "outputs": [],
   "source": []
  }
 ],
 "metadata": {
  "kernelspec": {
   "display_name": ".venv",
   "language": "python",
   "name": "python3"
  },
  "language_info": {
   "codemirror_mode": {
    "name": "ipython",
    "version": 3
   },
   "file_extension": ".py",
   "mimetype": "text/x-python",
   "name": "python",
   "nbconvert_exporter": "python",
   "pygments_lexer": "ipython3",
   "version": "3.11.11"
  }
 },
 "nbformat": 4,
 "nbformat_minor": 5
}
