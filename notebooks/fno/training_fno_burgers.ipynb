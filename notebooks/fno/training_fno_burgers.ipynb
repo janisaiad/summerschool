{
 "cells": [
  {
   "cell_type": "code",
   "execution_count": 1,
   "id": "3afa440a",
   "metadata": {
    "lines_to_end_of_cell_marker": 2
   },
   "outputs": [
    {
     "name": "stderr",
     "output_type": "stream",
     "text": [
      "2025-03-17 00:21:14.147801: I tensorflow/core/util/port.cc:110] oneDNN custom operations are on. You may see slightly different numerical results due to floating-point round-off errors from different computation orders. To turn them off, set the environment variable `TF_ENABLE_ONEDNN_OPTS=0`.\n",
      "2025-03-17 00:21:14.149323: I tensorflow/tsl/cuda/cudart_stub.cc:28] Could not find cuda drivers on your machine, GPU will not be used.\n",
      "2025-03-17 00:21:14.184035: I tensorflow/tsl/cuda/cudart_stub.cc:28] Could not find cuda drivers on your machine, GPU will not be used.\n",
      "2025-03-17 00:21:14.184886: I tensorflow/core/platform/cpu_feature_guard.cc:182] This TensorFlow binary is optimized to use available CPU instructions in performance-critical operations.\n",
      "To enable the following instructions: AVX2 AVX512F AVX512_VNNI AVX512_BF16 FMA, in other operations, rebuild TensorFlow with the appropriate compiler flags.\n",
      "2025-03-17 00:21:14.855706: W tensorflow/compiler/tf2tensorrt/utils/py_utils.cc:38] TF-TRT Warning: Could not find TensorRT\n",
      "2025-03-17 00:21:16.648936: I tensorflow/compiler/xla/stream_executor/cuda/cuda_gpu_executor.cc:982] could not open file to read NUMA node: /sys/bus/pci/devices/0000:01:00.0/numa_node\n",
      "Your kernel may have been built without NUMA support.\n",
      "2025-03-17 00:21:16.909208: W tensorflow/core/common_runtime/gpu/gpu_device.cc:1956] Cannot dlopen some GPU libraries. Please make sure the missing libraries mentioned above are installed properly if you would like to use GPU. Follow the guide at https://www.tensorflow.org/install/gpu for how to download and setup the required libraries for your platform.\n",
      "Skipping registering GPU devices...\n"
     ]
    },
    {
     "data": {
      "text/plain": [
       "[]"
      ]
     },
     "execution_count": 1,
     "metadata": {},
     "output_type": "execute_result"
    }
   ],
   "source": [
    "from sciml.model.fno import FNO\n",
    "import tensorflow as tf\n",
    "import numpy as np\n",
    "import matplotlib.pyplot as plt\n",
    "tf.config.list_physical_devices('GPU')"
   ]
  },
  {
   "cell_type": "code",
   "execution_count": 3,
   "id": "27d56547",
   "metadata": {
    "lines_to_next_cell": 2
   },
   "outputs": [],
   "source": [
    "p_1 = 32*32\n",
    "p_2 = 32*32\n",
    "p_3 = 32*32\n",
    "epochs = 300 \n",
    "index = 10"
   ]
  },
  {
   "cell_type": "code",
   "execution_count": 5,
   "id": "bec67b9f",
   "metadata": {
    "lines_to_end_of_cell_marker": 2
   },
   "outputs": [],
   "source": [
    "first_network = tf.keras.Sequential([\n",
    "    tf.keras.layers.Input(shape=(p_1,)),\n",
    "    tf.keras.layers.Dense(40, activation='relu'),\n",
    "    tf.keras.layers.Dense(128, activation='relu'),\n",
    "    tf.keras.layers.Dense(p_2, activation='relu'),\n",
    "])\n",
    "\n",
    "last_network = tf.keras.Sequential([\n",
    "    tf.keras.layers.Input(shape=(p_2,)),\n",
    "    tf.keras.layers.Dense(40, activation='relu'),\n",
    "    tf.keras.layers.Dense(128, activation='relu'),\n",
    "    tf.keras.layers.Dense(p_3, activation='relu'),\n",
    "])"
   ]
  },
  {
   "cell_type": "code",
   "execution_count": 6,
   "id": "30d1a04c",
   "metadata": {},
   "outputs": [],
   "source": [
    "folder_path = \"data/test_data/example_data_fno/heat2d/\""
   ]
  },
  {
   "cell_type": "code",
   "execution_count": 7,
   "id": "7cb33502",
   "metadata": {},
   "outputs": [],
   "source": [
    "n_layers = 3\n",
    "n_modes = p_2 # we use the same number of modes for the network, perfect fourier transform with well known heisenberg inequality (supp )*(supp F) >= n_modes\n",
    "\n",
    "activation = 'relu'\n",
    "kernel_initializer = 'he_normal'\n",
    "device = \"GPU\"\n",
    "n_epochs = epochs\n"
   ]
  },
  {
   "cell_type": "code",
   "execution_count": 13,
   "id": "3e406c23",
   "metadata": {},
   "outputs": [
    {
     "ename": "KeyError",
     "evalue": "'folder_path'",
     "output_type": "error",
     "traceback": [
      "\u001b[31m---------------------------------------------------------------------------\u001b[39m",
      "\u001b[31mKeyError\u001b[39m                                  Traceback (most recent call last)",
      "\u001b[36mCell\u001b[39m\u001b[36m \u001b[39m\u001b[32mIn[13]\u001b[39m\u001b[32m, line 1\u001b[39m\n\u001b[32m----> \u001b[39m\u001b[32m1\u001b[39m model = \u001b[43mFNO\u001b[49m\u001b[43m(\u001b[49m\u001b[43mregular_params\u001b[49m\u001b[43m=\u001b[49m\u001b[43m{\u001b[49m\u001b[33;43m\"\u001b[39;49m\u001b[33;43mfirst_network\u001b[39;49m\u001b[33;43m\"\u001b[39;49m\u001b[43m:\u001b[49m\u001b[43m \u001b[49m\u001b[43mfirst_network\u001b[49m\u001b[43m,\u001b[49m\u001b[43m \u001b[49m\u001b[33;43m\"\u001b[39;49m\u001b[33;43mlast_network\u001b[39;49m\u001b[33;43m\"\u001b[39;49m\u001b[43m:\u001b[49m\u001b[43m \u001b[49m\u001b[43mlast_network\u001b[49m\u001b[43m}\u001b[49m\u001b[43m,\u001b[49m\u001b[43mfourier_params\u001b[49m\u001b[43m=\u001b[49m\u001b[43m{\u001b[49m\u001b[33;43m\"\u001b[39;49m\u001b[33;43mn_layers\u001b[39;49m\u001b[33;43m\"\u001b[39;49m\u001b[43m:\u001b[49m\u001b[43m \u001b[49m\u001b[43mn_layers\u001b[49m\u001b[43m,\u001b[49m\u001b[43m \u001b[49m\u001b[33;43m\"\u001b[39;49m\u001b[33;43mn_modes\u001b[39;49m\u001b[33;43m\"\u001b[39;49m\u001b[43m:\u001b[49m\u001b[43m \u001b[49m\u001b[43mn_modes\u001b[49m\u001b[43m,\u001b[49m\u001b[43m \u001b[49m\u001b[33;43m\"\u001b[39;49m\u001b[33;43mactivation\u001b[39;49m\u001b[33;43m\"\u001b[39;49m\u001b[43m:\u001b[49m\u001b[43m \u001b[49m\u001b[43mactivation\u001b[49m\u001b[43m,\u001b[49m\u001b[43m \u001b[49m\u001b[33;43m\"\u001b[39;49m\u001b[33;43mkernel_initializer\u001b[39;49m\u001b[33;43m\"\u001b[39;49m\u001b[43m:\u001b[49m\u001b[43m \u001b[49m\u001b[43mkernel_initializer\u001b[49m\u001b[43m,\u001b[49m\u001b[33;43m\"\u001b[39;49m\u001b[33;43mdim_coords\u001b[39;49m\u001b[33;43m\"\u001b[39;49m\u001b[43m:\u001b[49m\u001b[32;43m2\u001b[39;49m\u001b[43m}\u001b[49m\u001b[43m,\u001b[49m\u001b[43m \u001b[49m\u001b[43mhyper_params\u001b[49m\u001b[43m=\u001b[49m\u001b[43m{\u001b[49m\u001b[33;43m\"\u001b[39;49m\u001b[33;43mp_1\u001b[39;49m\u001b[33;43m\"\u001b[39;49m\u001b[43m:\u001b[49m\u001b[43m \u001b[49m\u001b[43mp_1\u001b[49m\u001b[43m,\u001b[49m\u001b[43m \u001b[49m\u001b[33;43m\"\u001b[39;49m\u001b[33;43mp_2\u001b[39;49m\u001b[33;43m\"\u001b[39;49m\u001b[43m:\u001b[49m\u001b[43m \u001b[49m\u001b[43mp_2\u001b[49m\u001b[43m,\u001b[49m\u001b[33;43m'\u001b[39;49m\u001b[33;43mp_3\u001b[39;49m\u001b[33;43m'\u001b[39;49m\u001b[43m:\u001b[49m\u001b[43mp_3\u001b[49m\u001b[43m,\u001b[49m\u001b[33;43m\"\u001b[39;49m\u001b[33;43mdevice\u001b[39;49m\u001b[33;43m\"\u001b[39;49m\u001b[43m:\u001b[49m\u001b[43m \u001b[49m\u001b[43mdevice\u001b[49m\u001b[43m,\u001b[49m\u001b[33;43m\"\u001b[39;49m\u001b[33;43mn_epochs\u001b[39;49m\u001b[33;43m\"\u001b[39;49m\u001b[43m:\u001b[49m\u001b[43mn_epochs\u001b[49m\u001b[43m,\u001b[49m\u001b[33;43m\"\u001b[39;49m\u001b[33;43mindex\u001b[39;49m\u001b[33;43m\"\u001b[39;49m\u001b[43m:\u001b[49m\u001b[43mindex\u001b[49m\u001b[43m}\u001b[49m\u001b[43m)\u001b[49m\n",
      "\u001b[36mFile \u001b[39m\u001b[32m~/SCIML/sciml/model/fno/fno.py:231\u001b[39m, in \u001b[36mFNO.__init__\u001b[39m\u001b[34m(self, hyper_params, regular_params, fourier_params)\u001b[39m\n\u001b[32m    229\u001b[39m \u001b[38;5;28mself\u001b[39m.loss_function = hyper_params[\u001b[33m\"\u001b[39m\u001b[33mloss_function\u001b[39m\u001b[33m\"\u001b[39m] \u001b[38;5;28;01mif\u001b[39;00m \u001b[33m\"\u001b[39m\u001b[33mloss_function\u001b[39m\u001b[33m\"\u001b[39m \u001b[38;5;129;01min\u001b[39;00m hyper_params \u001b[38;5;28;01melse\u001b[39;00m tf.losses.MeanSquaredError()\n\u001b[32m    230\u001b[39m \u001b[38;5;28mself\u001b[39m.device = hyper_params[\u001b[33m\"\u001b[39m\u001b[33mdevice\u001b[39m\u001b[33m\"\u001b[39m] \u001b[38;5;28;01mif\u001b[39;00m \u001b[33m\"\u001b[39m\u001b[33mdevice\u001b[39m\u001b[33m\"\u001b[39m \u001b[38;5;129;01min\u001b[39;00m hyper_params \u001b[38;5;28;01melse\u001b[39;00m \u001b[33m'\u001b[39m\u001b[33mcpu\u001b[39m\u001b[33m'\u001b[39m\n\u001b[32m--> \u001b[39m\u001b[32m231\u001b[39m \u001b[38;5;28mself\u001b[39m.folder_path = os.path.join(PROJECT_ROOT,\u001b[43mhyper_params\u001b[49m\u001b[43m[\u001b[49m\u001b[33;43m\"\u001b[39;49m\u001b[33;43mfolder_path\u001b[39;49m\u001b[33;43m\"\u001b[39;49m\u001b[43m]\u001b[49m)\n\u001b[32m    233\u001b[39m \u001b[38;5;28mself\u001b[39m.model_output_shape = hyper_params[\u001b[33m\"\u001b[39m\u001b[33moutput_shape\u001b[39m\u001b[33m\"\u001b[39m] \u001b[38;5;28;01mif\u001b[39;00m \u001b[33m\"\u001b[39m\u001b[33moutput_shape\u001b[39m\u001b[33m\"\u001b[39m \u001b[38;5;129;01min\u001b[39;00m hyper_params \u001b[38;5;28;01melse\u001b[39;00m \u001b[38;5;28;01mNone\u001b[39;00m\n\u001b[32m    234\u001b[39m \u001b[38;5;28mself\u001b[39m.alpha = hyper_params[\u001b[33m\"\u001b[39m\u001b[33malpha\u001b[39m\u001b[33m\"\u001b[39m] \u001b[38;5;28;01mif\u001b[39;00m \u001b[33m\"\u001b[39m\u001b[33malpha\u001b[39m\u001b[33m\"\u001b[39m \u001b[38;5;129;01min\u001b[39;00m hyper_params \u001b[38;5;28;01melse\u001b[39;00m \u001b[32m0.01\u001b[39m\n",
      "\u001b[31mKeyError\u001b[39m: 'folder_path'"
     ]
    }
   ],
   "source": [
    "model = FNO(regular_params={\"first_network\": first_network, \"last_network\": last_network},fourier_params={\"n_layers\": n_layers, \"n_modes\": n_modes, \"activation\": activation, \"kernel_initializer\": kernel_initializer,\"dim_coords\":2}, hyper_params={\"p_1\": p_1, \"p_2\": p_2,'p_3':p_3,\"device\": device,\"n_epochs\":n_epochs,\"index\":index})"
   ]
  },
  {
   "cell_type": "code",
   "execution_count": 7,
   "id": "eb9f3d88",
   "metadata": {},
   "outputs": [
    {
     "name": "stderr",
     "output_type": "stream",
     "text": [
      "Loading mu data: 100%|██████████| 40/40 [00:00<00:00, 5501.27it/s]\n",
      "Loading x data: 100%|██████████| 40/40 [00:00<00:00, 2842.82it/s]\n",
      "Loading y data: 100%|██████████| 40/40 [00:00<00:00, 4571.95it/s]\n"
     ]
    },
    {
     "name": "stdout",
     "output_type": "stream",
     "text": [
      "Dimensions après extraction du temps 10:\n",
      "mus: (40, 400)\n",
      "xs: (40, 400, 2)\n",
      "sol: (40, 400)\n"
     ]
    }
   ],
   "source": [
    "mus, xs, sol = model.get_data(folder_path)"
   ]
  },
  {
   "cell_type": "code",
   "execution_count": 8,
   "id": "2600011d",
   "metadata": {},
   "outputs": [
    {
     "name": "stdout",
     "output_type": "stream",
     "text": [
      "(40, 400)\n",
      "(40, 400, 2)\n",
      "(40, 400)\n"
     ]
    }
   ],
   "source": [
    "print(mus.shape)\n",
    "print(xs.shape)\n",
    "print(sol.shape)"
   ]
  },
  {
   "cell_type": "code",
   "execution_count": 9,
   "id": "c7da4cd3",
   "metadata": {},
   "outputs": [],
   "source": [
    "import os\n",
    "\n",
    "tf.get_logger().setLevel('ERROR')\n"
   ]
  },
  {
   "cell_type": "code",
   "execution_count": 10,
   "id": "d6065ca5",
   "metadata": {},
   "outputs": [
    {
     "name": "stderr",
     "output_type": "stream",
     "text": [
      "Loading mu data: 100%|██████████| 40/40 [00:00<00:00, 12880.78it/s]\n",
      "Loading x data: 100%|██████████| 40/40 [00:00<00:00, 6840.30it/s]\n",
      "Loading y data: 100%|██████████| 40/40 [00:00<00:00, 10921.96it/s]\n"
     ]
    },
    {
     "name": "stdout",
     "output_type": "stream",
     "text": [
      "Dimensions après extraction du temps 10:\n",
      "mus: (40, 400)\n",
      "xs: (40, 400, 2)\n",
      "sol: (40, 400)\n"
     ]
    },
    {
     "name": "stderr",
     "output_type": "stream",
     "text": [
      "Training progress:   0%|          | 0/300 [00:00<?, ?it/s]2025-03-09 01:19:04.119638: I tensorflow/core/framework/local_rendezvous.cc:405] Local rendezvous is aborting with status: OUT_OF_RANGE: End of sequence\n",
      "INFO:sciml.model.fno.fno:Epoch 0 completed\n",
      "Training progress:   0%|          | 1/300 [00:00<04:31,  1.10it/s]2025-03-09 01:19:04.287900: I tensorflow/core/framework/local_rendezvous.cc:405] Local rendezvous is aborting with status: OUT_OF_RANGE: End of sequence\n",
      "INFO:sciml.model.fno.fno:Epoch 1 completed\n",
      "Training progress:   1%|          | 2/300 [00:01<02:20,  2.12it/s]INFO:sciml.model.fno.fno:Epoch 2 completed\n",
      "Training progress:   1%|          | 3/300 [00:01<01:39,  2.98it/s]2025-03-09 01:19:04.621616: I tensorflow/core/framework/local_rendezvous.cc:405] Local rendezvous is aborting with status: OUT_OF_RANGE: End of sequence\n",
      "INFO:sciml.model.fno.fno:Epoch 3 completed\n",
      "Training progress:   1%|▏         | 4/300 [00:01<01:18,  3.75it/s]INFO:sciml.model.fno.fno:Epoch 4 completed\n",
      "Training progress:   2%|▏         | 5/300 [00:01<01:07,  4.40it/s]INFO:sciml.model.fno.fno:Epoch 5 completed\n",
      "Training progress:   2%|▏         | 6/300 [00:01<01:05,  4.51it/s]INFO:sciml.model.fno.fno:Epoch 6 completed\n",
      "Training progress:   2%|▏         | 7/300 [00:01<00:59,  4.97it/s]2025-03-09 01:19:05.309391: I tensorflow/core/framework/local_rendezvous.cc:405] Local rendezvous is aborting with status: OUT_OF_RANGE: End of sequence\n",
      "INFO:sciml.model.fno.fno:Epoch 7 completed\n",
      "Training progress:   3%|▎         | 8/300 [00:02<00:54,  5.31it/s]INFO:sciml.model.fno.fno:Epoch 8 completed\n",
      "Training progress:   3%|▎         | 9/300 [00:02<00:51,  5.60it/s]INFO:sciml.model.fno.fno:Epoch 9 completed\n",
      "Training progress:   3%|▎         | 10/300 [00:02<00:50,  5.75it/s]INFO:sciml.model.fno.fno:Epoch 10 completed\n",
      "Training progress:   4%|▎         | 11/300 [00:02<00:48,  5.91it/s]INFO:sciml.model.fno.fno:Epoch 11 completed\n",
      "Training progress:   4%|▍         | 12/300 [00:02<00:47,  6.03it/s]INFO:sciml.model.fno.fno:Epoch 12 completed\n",
      "Training progress:   4%|▍         | 13/300 [00:02<00:46,  6.11it/s]INFO:sciml.model.fno.fno:Epoch 13 completed\n",
      "Training progress:   5%|▍         | 14/300 [00:03<00:46,  6.11it/s]INFO:sciml.model.fno.fno:Epoch 14 completed\n",
      "Training progress:   5%|▌         | 15/300 [00:03<00:46,  6.17it/s]2025-03-09 01:19:06.594226: I tensorflow/core/framework/local_rendezvous.cc:405] Local rendezvous is aborting with status: OUT_OF_RANGE: End of sequence\n",
      "INFO:sciml.model.fno.fno:Epoch 15 completed\n",
      "Training progress:   5%|▌         | 16/300 [00:03<00:46,  6.13it/s]INFO:sciml.model.fno.fno:Epoch 16 completed\n",
      "Training progress:   6%|▌         | 17/300 [00:03<00:46,  6.13it/s]INFO:sciml.model.fno.fno:Epoch 17 completed\n",
      "Training progress:   6%|▌         | 18/300 [00:03<00:45,  6.23it/s]INFO:sciml.model.fno.fno:Epoch 18 completed\n",
      "Training progress:   6%|▋         | 19/300 [00:03<00:46,  6.02it/s]INFO:sciml.model.fno.fno:Epoch 19 completed\n",
      "Training progress:   7%|▋         | 20/300 [00:04<00:47,  5.91it/s]INFO:sciml.model.fno.fno:Epoch 20 completed\n",
      "Training progress:   7%|▋         | 21/300 [00:04<00:47,  5.92it/s]INFO:sciml.model.fno.fno:Epoch 21 completed\n",
      "Training progress:   7%|▋         | 22/300 [00:04<00:45,  6.06it/s]INFO:sciml.model.fno.fno:Epoch 22 completed\n",
      "Training progress:   8%|▊         | 23/300 [00:04<00:45,  6.06it/s]INFO:sciml.model.fno.fno:Epoch 23 completed\n",
      "Training progress:   8%|▊         | 24/300 [00:04<00:45,  6.11it/s]INFO:sciml.model.fno.fno:Epoch 24 completed\n",
      "Training progress:   8%|▊         | 25/300 [00:04<00:44,  6.18it/s]INFO:sciml.model.fno.fno:Epoch 25 completed\n",
      "Training progress:   9%|▊         | 26/300 [00:05<00:43,  6.24it/s]INFO:sciml.model.fno.fno:Epoch 26 completed\n",
      "Training progress:   9%|▉         | 27/300 [00:05<00:43,  6.29it/s]INFO:sciml.model.fno.fno:Epoch 27 completed\n",
      "Training progress:   9%|▉         | 28/300 [00:05<00:43,  6.25it/s]INFO:sciml.model.fno.fno:Epoch 28 completed\n",
      "Training progress:  10%|▉         | 29/300 [00:05<00:43,  6.30it/s]INFO:sciml.model.fno.fno:Epoch 29 completed\n",
      "Training progress:  10%|█         | 30/300 [00:05<00:43,  6.25it/s]INFO:sciml.model.fno.fno:Epoch 30 completed\n",
      "Training progress:  10%|█         | 31/300 [00:05<00:42,  6.26it/s]2025-03-09 01:19:09.182787: I tensorflow/core/framework/local_rendezvous.cc:405] Local rendezvous is aborting with status: OUT_OF_RANGE: End of sequence\n",
      "INFO:sciml.model.fno.fno:Epoch 31 completed\n",
      "Training progress:  11%|█         | 32/300 [00:05<00:42,  6.30it/s]INFO:sciml.model.fno.fno:Epoch 32 completed\n",
      "Training progress:  11%|█         | 33/300 [00:06<00:42,  6.31it/s]INFO:sciml.model.fno.fno:Epoch 33 completed\n",
      "Training progress:  11%|█▏        | 34/300 [00:06<00:41,  6.35it/s]INFO:sciml.model.fno.fno:Epoch 34 completed\n",
      "Training progress:  12%|█▏        | 35/300 [00:06<00:41,  6.37it/s]INFO:sciml.model.fno.fno:Epoch 35 completed\n",
      "Training progress:  12%|█▏        | 36/300 [00:06<00:41,  6.41it/s]INFO:sciml.model.fno.fno:Epoch 36 completed\n",
      "INFO:sciml.model.fno.fno:Epoch 37 completed\n",
      "INFO:sciml.model.fno.fno:Epoch 38 completed\n",
      "INFO:sciml.model.fno.fno:Epoch 39 completed\n",
      "INFO:sciml.model.fno.fno:Epoch 40 completed\n",
      "INFO:sciml.model.fno.fno:Epoch 41 completed\n",
      "INFO:sciml.model.fno.fno:Epoch 42 completed\n",
      "INFO:sciml.model.fno.fno:Epoch 43 completed\n",
      "INFO:sciml.model.fno.fno:Epoch 44 completed\n",
      "INFO:sciml.model.fno.fno:Epoch 45 completed\n",
      "INFO:sciml.model.fno.fno:Epoch 46 completed\n",
      "INFO:sciml.model.fno.fno:Epoch 47 completed\n",
      "INFO:sciml.model.fno.fno:Epoch 48 completed\n",
      "INFO:sciml.model.fno.fno:Epoch 49 completed\n",
      "INFO:sciml.model.fno.fno:Epoch 50 completed\n",
      "INFO:sciml.model.fno.fno:Epoch 51 completed\n",
      "INFO:sciml.model.fno.fno:Epoch 52 completed\n",
      "Training progress:  18%|█▊        | 53/300 [00:06<00:07, 32.78it/s]INFO:sciml.model.fno.fno:Epoch 53 completed\n",
      "INFO:sciml.model.fno.fno:Epoch 54 completed\n",
      "INFO:sciml.model.fno.fno:Epoch 55 completed\n",
      "Training progress:  19%|█▊        | 56/300 [00:07<00:13, 18.20it/s]INFO:sciml.model.fno.fno:Epoch 56 completed\n",
      "INFO:sciml.model.fno.fno:Epoch 57 completed\n",
      "INFO:sciml.model.fno.fno:Epoch 58 completed\n",
      "Training progress:  20%|█▉        | 59/300 [00:07<00:19, 12.37it/s]INFO:sciml.model.fno.fno:Epoch 59 completed\n",
      "INFO:sciml.model.fno.fno:Epoch 60 completed\n",
      "Training progress:  20%|██        | 61/300 [00:08<00:23, 10.30it/s]INFO:sciml.model.fno.fno:Epoch 61 completed\n",
      "INFO:sciml.model.fno.fno:Epoch 62 completed\n",
      "Training progress:  21%|██        | 63/300 [00:08<00:26,  9.08it/s]2025-03-09 01:19:11.929459: I tensorflow/core/framework/local_rendezvous.cc:405] Local rendezvous is aborting with status: OUT_OF_RANGE: End of sequence\n",
      "INFO:sciml.model.fno.fno:Epoch 63 completed\n",
      "INFO:sciml.model.fno.fno:Epoch 64 completed\n",
      "Training progress:  22%|██▏       | 65/300 [00:08<00:28,  8.17it/s]INFO:sciml.model.fno.fno:Epoch 65 completed\n",
      "Training progress:  22%|██▏       | 66/300 [00:09<00:29,  7.83it/s]INFO:sciml.model.fno.fno:Epoch 66 completed\n",
      "Training progress:  22%|██▏       | 67/300 [00:09<00:30,  7.56it/s]INFO:sciml.model.fno.fno:Epoch 67 completed\n",
      "Training progress:  23%|██▎       | 68/300 [00:09<00:31,  7.26it/s]INFO:sciml.model.fno.fno:Epoch 68 completed\n",
      "Training progress:  23%|██▎       | 69/300 [00:09<00:33,  6.96it/s]INFO:sciml.model.fno.fno:Epoch 69 completed\n",
      "Training progress:  23%|██▎       | 70/300 [00:09<00:33,  6.80it/s]INFO:sciml.model.fno.fno:Epoch 70 completed\n",
      "Training progress:  24%|██▎       | 71/300 [00:09<00:34,  6.65it/s]INFO:sciml.model.fno.fno:Epoch 71 completed\n",
      "Training progress:  24%|██▍       | 72/300 [00:10<00:34,  6.58it/s]INFO:sciml.model.fno.fno:Epoch 72 completed\n",
      "Training progress:  24%|██▍       | 73/300 [00:10<00:34,  6.49it/s]INFO:sciml.model.fno.fno:Epoch 73 completed\n",
      "Training progress:  25%|██▍       | 74/300 [00:10<00:35,  6.44it/s]INFO:sciml.model.fno.fno:Epoch 74 completed\n",
      "Training progress:  25%|██▌       | 75/300 [00:10<00:35,  6.41it/s]INFO:sciml.model.fno.fno:Epoch 75 completed\n",
      "Training progress:  25%|██▌       | 76/300 [00:10<00:35,  6.40it/s]INFO:sciml.model.fno.fno:Epoch 76 completed\n",
      "Training progress:  26%|██▌       | 77/300 [00:10<00:35,  6.27it/s]INFO:sciml.model.fno.fno:Epoch 77 completed\n",
      "Training progress:  26%|██▌       | 78/300 [00:10<00:35,  6.21it/s]INFO:sciml.model.fno.fno:Epoch 78 completed\n",
      "Training progress:  26%|██▋       | 79/300 [00:11<00:36,  6.12it/s]INFO:sciml.model.fno.fno:Epoch 79 completed\n",
      "Training progress:  27%|██▋       | 80/300 [00:11<00:35,  6.13it/s]INFO:sciml.model.fno.fno:Epoch 80 completed\n",
      "Training progress:  27%|██▋       | 81/300 [00:11<00:36,  6.03it/s]INFO:sciml.model.fno.fno:Epoch 81 completed\n",
      "Training progress:  27%|██▋       | 82/300 [00:11<00:37,  5.83it/s]INFO:sciml.model.fno.fno:Epoch 82 completed\n",
      "Training progress:  28%|██▊       | 83/300 [00:11<00:37,  5.76it/s]INFO:sciml.model.fno.fno:Epoch 83 completed\n",
      "Training progress:  28%|██▊       | 84/300 [00:12<00:37,  5.75it/s]INFO:sciml.model.fno.fno:Epoch 84 completed\n",
      "Training progress:  28%|██▊       | 85/300 [00:12<00:37,  5.78it/s]INFO:sciml.model.fno.fno:Epoch 85 completed\n",
      "Training progress:  29%|██▊       | 86/300 [00:12<00:36,  5.92it/s]INFO:sciml.model.fno.fno:Epoch 86 completed\n",
      "Training progress:  29%|██▉       | 87/300 [00:12<00:35,  6.05it/s]INFO:sciml.model.fno.fno:Epoch 87 completed\n",
      "Training progress:  29%|██▉       | 88/300 [00:12<00:34,  6.11it/s]INFO:sciml.model.fno.fno:Epoch 88 completed\n",
      "Training progress:  30%|██▉       | 89/300 [00:12<00:34,  6.16it/s]INFO:sciml.model.fno.fno:Epoch 89 completed\n",
      "Training progress:  30%|███       | 90/300 [00:12<00:33,  6.20it/s]INFO:sciml.model.fno.fno:Epoch 90 completed\n",
      "Training progress:  30%|███       | 91/300 [00:13<00:33,  6.22it/s]INFO:sciml.model.fno.fno:Epoch 91 completed\n",
      "Training progress:  31%|███       | 92/300 [00:13<00:33,  6.18it/s]INFO:sciml.model.fno.fno:Epoch 92 completed\n",
      "Training progress:  31%|███       | 93/300 [00:13<00:33,  6.21it/s]INFO:sciml.model.fno.fno:Epoch 93 completed\n",
      "Training progress:  31%|███▏      | 94/300 [00:13<00:33,  6.21it/s]INFO:sciml.model.fno.fno:Epoch 94 completed\n",
      "Training progress:  32%|███▏      | 95/300 [00:13<00:32,  6.21it/s]INFO:sciml.model.fno.fno:Epoch 95 completed\n",
      "Training progress:  32%|███▏      | 96/300 [00:13<00:33,  6.10it/s]INFO:sciml.model.fno.fno:Epoch 96 completed\n",
      "Training progress:  32%|███▏      | 97/300 [00:14<00:32,  6.18it/s]INFO:sciml.model.fno.fno:Epoch 97 completed\n",
      "Training progress:  33%|███▎      | 98/300 [00:14<00:32,  6.22it/s]INFO:sciml.model.fno.fno:Epoch 98 completed\n",
      "Training progress:  33%|███▎      | 99/300 [00:14<00:32,  6.25it/s]INFO:sciml.model.fno.fno:Epoch 99 completed\n",
      "Training progress:  33%|███▎      | 100/300 [00:14<00:31,  6.30it/s]INFO:sciml.model.fno.fno:Epoch 100 completed\n",
      "Training progress:  34%|███▎      | 101/300 [00:14<00:31,  6.31it/s]INFO:sciml.model.fno.fno:Epoch 101 completed\n",
      "Training progress:  34%|███▍      | 102/300 [00:14<00:31,  6.33it/s]INFO:sciml.model.fno.fno:Epoch 102 completed\n",
      "Training progress:  34%|███▍      | 103/300 [00:15<00:31,  6.35it/s]INFO:sciml.model.fno.fno:Epoch 103 completed\n",
      "Training progress:  35%|███▍      | 104/300 [00:15<00:30,  6.37it/s]INFO:sciml.model.fno.fno:Epoch 104 completed\n",
      "Training progress:  35%|███▌      | 105/300 [00:15<00:30,  6.30it/s]INFO:sciml.model.fno.fno:Epoch 105 completed\n",
      "Training progress:  35%|███▌      | 106/300 [00:15<00:30,  6.40it/s]INFO:sciml.model.fno.fno:Epoch 106 completed\n",
      "Training progress:  36%|███▌      | 107/300 [00:15<00:30,  6.41it/s]INFO:sciml.model.fno.fno:Epoch 107 completed\n",
      "Training progress:  36%|███▌      | 108/300 [00:15<00:30,  6.39it/s]INFO:sciml.model.fno.fno:Epoch 108 completed\n",
      "Training progress:  36%|███▋      | 109/300 [00:15<00:29,  6.37it/s]INFO:sciml.model.fno.fno:Epoch 109 completed\n",
      "Training progress:  37%|███▋      | 110/300 [00:16<00:30,  6.28it/s]INFO:sciml.model.fno.fno:Epoch 110 completed\n",
      "Training progress:  37%|███▋      | 111/300 [00:16<00:29,  6.33it/s]INFO:sciml.model.fno.fno:Epoch 111 completed\n",
      "Training progress:  37%|███▋      | 112/300 [00:16<00:29,  6.36it/s]INFO:sciml.model.fno.fno:Epoch 112 completed\n",
      "Training progress:  38%|███▊      | 113/300 [00:16<00:29,  6.36it/s]INFO:sciml.model.fno.fno:Epoch 113 completed\n",
      "Training progress:  38%|███▊      | 114/300 [00:16<00:29,  6.37it/s]INFO:sciml.model.fno.fno:Epoch 114 completed\n",
      "Training progress:  38%|███▊      | 115/300 [00:16<00:29,  6.34it/s]INFO:sciml.model.fno.fno:Epoch 115 completed\n",
      "Training progress:  39%|███▊      | 116/300 [00:17<00:29,  6.32it/s]INFO:sciml.model.fno.fno:Epoch 116 completed\n",
      "Training progress:  39%|███▉      | 117/300 [00:17<00:29,  6.18it/s]INFO:sciml.model.fno.fno:Epoch 117 completed\n",
      "Training progress:  39%|███▉      | 118/300 [00:17<00:29,  6.12it/s]INFO:sciml.model.fno.fno:Epoch 118 completed\n",
      "Training progress:  40%|███▉      | 119/300 [00:17<00:29,  6.17it/s]INFO:sciml.model.fno.fno:Epoch 119 completed\n",
      "Training progress:  40%|████      | 120/300 [00:17<00:29,  6.20it/s]INFO:sciml.model.fno.fno:Epoch 120 completed\n",
      "Training progress:  40%|████      | 121/300 [00:17<00:28,  6.27it/s]INFO:sciml.model.fno.fno:Epoch 121 completed\n",
      "Training progress:  41%|████      | 122/300 [00:18<00:28,  6.16it/s]INFO:sciml.model.fno.fno:Epoch 122 completed\n",
      "Training progress:  41%|████      | 123/300 [00:18<00:28,  6.22it/s]INFO:sciml.model.fno.fno:Epoch 123 completed\n",
      "Training progress:  41%|████▏     | 124/300 [00:18<00:28,  6.29it/s]INFO:sciml.model.fno.fno:Epoch 124 completed\n",
      "Training progress:  42%|████▏     | 125/300 [00:18<00:28,  6.19it/s]INFO:sciml.model.fno.fno:Epoch 125 completed\n",
      "Training progress:  42%|████▏     | 126/300 [00:18<00:28,  6.10it/s]INFO:sciml.model.fno.fno:Epoch 126 completed\n",
      "Training progress:  42%|████▏     | 127/300 [00:18<00:27,  6.19it/s]2025-03-09 01:19:22.252399: I tensorflow/core/framework/local_rendezvous.cc:405] Local rendezvous is aborting with status: OUT_OF_RANGE: End of sequence\n",
      "INFO:sciml.model.fno.fno:Epoch 127 completed\n",
      "Training progress:  43%|████▎     | 128/300 [00:19<00:27,  6.28it/s]INFO:sciml.model.fno.fno:Epoch 128 completed\n",
      "Training progress:  43%|████▎     | 129/300 [00:19<00:27,  6.30it/s]INFO:sciml.model.fno.fno:Epoch 129 completed\n",
      "Training progress:  43%|████▎     | 130/300 [00:19<00:26,  6.33it/s]INFO:sciml.model.fno.fno:Epoch 130 completed\n",
      "Training progress:  44%|████▎     | 131/300 [00:19<00:26,  6.40it/s]INFO:sciml.model.fno.fno:Epoch 131 completed\n",
      "Training progress:  44%|████▍     | 132/300 [00:19<00:26,  6.44it/s]INFO:sciml.model.fno.fno:Epoch 132 completed\n",
      "Training progress:  44%|████▍     | 133/300 [00:19<00:28,  5.84it/s]INFO:sciml.model.fno.fno:Epoch 133 completed\n",
      "Training progress:  45%|████▍     | 134/300 [00:20<00:28,  5.85it/s]INFO:sciml.model.fno.fno:Epoch 134 completed\n",
      "Training progress:  45%|████▌     | 135/300 [00:20<00:27,  6.02it/s]INFO:sciml.model.fno.fno:Epoch 135 completed\n",
      "Training progress:  45%|████▌     | 136/300 [00:20<00:27,  6.07it/s]INFO:sciml.model.fno.fno:Epoch 136 completed\n",
      "Training progress:  46%|████▌     | 137/300 [00:20<00:26,  6.16it/s]INFO:sciml.model.fno.fno:Epoch 137 completed\n",
      "Training progress:  46%|████▌     | 138/300 [00:20<00:25,  6.29it/s]INFO:sciml.model.fno.fno:Epoch 138 completed\n",
      "Training progress:  46%|████▋     | 139/300 [00:20<00:25,  6.25it/s]INFO:sciml.model.fno.fno:Epoch 139 completed\n",
      "Training progress:  47%|████▋     | 140/300 [00:20<00:25,  6.30it/s]INFO:sciml.model.fno.fno:Epoch 140 completed\n",
      "Training progress:  47%|████▋     | 141/300 [00:21<00:25,  6.30it/s]INFO:sciml.model.fno.fno:Epoch 141 completed\n",
      "Training progress:  47%|████▋     | 142/300 [00:21<00:25,  6.32it/s]INFO:sciml.model.fno.fno:Epoch 142 completed\n",
      "Training progress:  48%|████▊     | 143/300 [00:21<00:24,  6.35it/s]INFO:sciml.model.fno.fno:Epoch 143 completed\n",
      "Training progress:  48%|████▊     | 144/300 [00:21<00:24,  6.38it/s]INFO:sciml.model.fno.fno:Epoch 144 completed\n",
      "Training progress:  48%|████▊     | 145/300 [00:21<00:24,  6.37it/s]INFO:sciml.model.fno.fno:Epoch 145 completed\n",
      "Training progress:  49%|████▊     | 146/300 [00:21<00:24,  6.30it/s]INFO:sciml.model.fno.fno:Epoch 146 completed\n",
      "Training progress:  49%|████▉     | 147/300 [00:22<00:24,  6.34it/s]INFO:sciml.model.fno.fno:Epoch 147 completed\n",
      "Training progress:  49%|████▉     | 148/300 [00:22<00:24,  6.33it/s]INFO:sciml.model.fno.fno:Epoch 148 completed\n",
      "Training progress:  50%|████▉     | 149/300 [00:22<00:23,  6.38it/s]INFO:sciml.model.fno.fno:Epoch 149 completed\n",
      "Training progress:  50%|█████     | 150/300 [00:22<00:23,  6.27it/s]INFO:sciml.model.fno.fno:Epoch 150 completed\n",
      "Training progress:  50%|█████     | 151/300 [00:22<00:23,  6.27it/s]INFO:sciml.model.fno.fno:Epoch 151 completed\n",
      "Training progress:  51%|█████     | 152/300 [00:22<00:23,  6.30it/s]INFO:sciml.model.fno.fno:Epoch 152 completed\n",
      "Training progress:  51%|█████     | 153/300 [00:23<00:23,  6.26it/s]INFO:sciml.model.fno.fno:Epoch 153 completed\n",
      "Training progress:  51%|█████▏    | 154/300 [00:23<00:22,  6.38it/s]INFO:sciml.model.fno.fno:Epoch 154 completed\n",
      "Training progress:  52%|█████▏    | 155/300 [00:23<00:22,  6.34it/s]INFO:sciml.model.fno.fno:Epoch 155 completed\n",
      "Training progress:  52%|█████▏    | 156/300 [00:23<00:22,  6.30it/s]INFO:sciml.model.fno.fno:Epoch 156 completed\n",
      "Training progress:  52%|█████▏    | 157/300 [00:23<00:22,  6.30it/s]INFO:sciml.model.fno.fno:Epoch 157 completed\n",
      "Training progress:  53%|█████▎    | 158/300 [00:23<00:22,  6.32it/s]INFO:sciml.model.fno.fno:Epoch 158 completed\n",
      "Training progress:  53%|█████▎    | 159/300 [00:23<00:22,  6.17it/s]INFO:sciml.model.fno.fno:Epoch 159 completed\n",
      "Training progress:  53%|█████▎    | 160/300 [00:24<00:22,  6.13it/s]INFO:sciml.model.fno.fno:Epoch 160 completed\n",
      "Training progress:  54%|█████▎    | 161/300 [00:24<00:22,  6.09it/s]INFO:sciml.model.fno.fno:Epoch 161 completed\n",
      "Training progress:  54%|█████▍    | 162/300 [00:24<00:22,  6.15it/s]INFO:sciml.model.fno.fno:Epoch 162 completed\n",
      "Training progress:  54%|█████▍    | 163/300 [00:24<00:21,  6.24it/s]INFO:sciml.model.fno.fno:Epoch 163 completed\n",
      "Training progress:  55%|█████▍    | 164/300 [00:24<00:21,  6.26it/s]INFO:sciml.model.fno.fno:Epoch 164 completed\n",
      "Training progress:  55%|█████▌    | 165/300 [00:24<00:21,  6.23it/s]INFO:sciml.model.fno.fno:Epoch 165 completed\n",
      "Training progress:  55%|█████▌    | 166/300 [00:25<00:21,  6.17it/s]INFO:sciml.model.fno.fno:Epoch 166 completed\n",
      "Training progress:  56%|█████▌    | 167/300 [00:25<00:21,  6.14it/s]INFO:sciml.model.fno.fno:Epoch 167 completed\n",
      "Training progress:  56%|█████▌    | 168/300 [00:25<00:21,  6.18it/s]INFO:sciml.model.fno.fno:Epoch 168 completed\n",
      "Training progress:  56%|█████▋    | 169/300 [00:25<00:20,  6.25it/s]INFO:sciml.model.fno.fno:Epoch 169 completed\n",
      "Training progress:  57%|█████▋    | 170/300 [00:25<00:20,  6.26it/s]INFO:sciml.model.fno.fno:Epoch 170 completed\n",
      "Training progress:  57%|█████▋    | 171/300 [00:25<00:20,  6.33it/s]INFO:sciml.model.fno.fno:Epoch 171 completed\n",
      "Training progress:  57%|█████▋    | 172/300 [00:26<00:20,  6.28it/s]INFO:sciml.model.fno.fno:Epoch 172 completed\n",
      "Training progress:  58%|█████▊    | 173/300 [00:26<00:20,  6.22it/s]INFO:sciml.model.fno.fno:Epoch 173 completed\n",
      "Training progress:  58%|█████▊    | 174/300 [00:26<00:20,  6.27it/s]INFO:sciml.model.fno.fno:Epoch 174 completed\n",
      "Training progress:  58%|█████▊    | 175/300 [00:26<00:20,  6.18it/s]INFO:sciml.model.fno.fno:Epoch 175 completed\n",
      "Training progress:  59%|█████▊    | 176/300 [00:26<00:19,  6.25it/s]INFO:sciml.model.fno.fno:Epoch 176 completed\n",
      "Training progress:  59%|█████▉    | 177/300 [00:26<00:19,  6.29it/s]INFO:sciml.model.fno.fno:Epoch 177 completed\n",
      "Training progress:  59%|█████▉    | 178/300 [00:27<00:19,  6.29it/s]INFO:sciml.model.fno.fno:Epoch 178 completed\n",
      "Training progress:  60%|█████▉    | 179/300 [00:27<00:19,  6.34it/s]INFO:sciml.model.fno.fno:Epoch 179 completed\n",
      "Training progress:  60%|██████    | 180/300 [00:27<00:18,  6.36it/s]INFO:sciml.model.fno.fno:Epoch 180 completed\n",
      "Training progress:  60%|██████    | 181/300 [00:27<00:18,  6.31it/s]INFO:sciml.model.fno.fno:Epoch 181 completed\n",
      "Training progress:  61%|██████    | 182/300 [00:27<00:18,  6.37it/s]INFO:sciml.model.fno.fno:Epoch 182 completed\n",
      "Training progress:  61%|██████    | 183/300 [00:27<00:18,  6.41it/s]INFO:sciml.model.fno.fno:Epoch 183 completed\n",
      "Training progress:  61%|██████▏   | 184/300 [00:27<00:18,  6.28it/s]INFO:sciml.model.fno.fno:Epoch 184 completed\n",
      "Training progress:  62%|██████▏   | 185/300 [00:28<00:18,  6.25it/s]INFO:sciml.model.fno.fno:Epoch 185 completed\n",
      "Training progress:  62%|██████▏   | 186/300 [00:28<00:18,  6.28it/s]INFO:sciml.model.fno.fno:Epoch 186 completed\n",
      "Training progress:  62%|██████▏   | 187/300 [00:28<00:18,  6.18it/s]INFO:sciml.model.fno.fno:Epoch 187 completed\n",
      "Training progress:  63%|██████▎   | 188/300 [00:28<00:17,  6.26it/s]INFO:sciml.model.fno.fno:Epoch 188 completed\n",
      "Training progress:  63%|██████▎   | 189/300 [00:28<00:17,  6.29it/s]INFO:sciml.model.fno.fno:Epoch 189 completed\n",
      "Training progress:  63%|██████▎   | 190/300 [00:28<00:17,  6.35it/s]INFO:sciml.model.fno.fno:Epoch 190 completed\n",
      "Training progress:  64%|██████▎   | 191/300 [00:29<00:17,  6.35it/s]INFO:sciml.model.fno.fno:Epoch 191 completed\n",
      "Training progress:  64%|██████▍   | 192/300 [00:29<00:17,  6.32it/s]INFO:sciml.model.fno.fno:Epoch 192 completed\n",
      "Training progress:  64%|██████▍   | 193/300 [00:29<00:16,  6.36it/s]INFO:sciml.model.fno.fno:Epoch 193 completed\n",
      "Training progress:  65%|██████▍   | 194/300 [00:29<00:16,  6.28it/s]INFO:sciml.model.fno.fno:Epoch 194 completed\n",
      "Training progress:  65%|██████▌   | 195/300 [00:29<00:16,  6.36it/s]INFO:sciml.model.fno.fno:Epoch 195 completed\n",
      "Training progress:  65%|██████▌   | 196/300 [00:29<00:16,  6.30it/s]INFO:sciml.model.fno.fno:Epoch 196 completed\n",
      "Training progress:  66%|██████▌   | 197/300 [00:30<00:16,  6.32it/s]INFO:sciml.model.fno.fno:Epoch 197 completed\n",
      "Training progress:  66%|██████▌   | 198/300 [00:30<00:16,  6.27it/s]INFO:sciml.model.fno.fno:Epoch 198 completed\n",
      "Training progress:  66%|██████▋   | 199/300 [00:30<00:16,  6.31it/s]INFO:sciml.model.fno.fno:Epoch 199 completed\n",
      "Training progress:  67%|██████▋   | 200/300 [00:30<00:15,  6.35it/s]INFO:sciml.model.fno.fno:Epoch 200 completed\n",
      "Training progress:  67%|██████▋   | 201/300 [00:30<00:15,  6.32it/s]INFO:sciml.model.fno.fno:Epoch 201 completed\n",
      "Training progress:  67%|██████▋   | 202/300 [00:30<00:15,  6.29it/s]INFO:sciml.model.fno.fno:Epoch 202 completed\n",
      "Training progress:  68%|██████▊   | 203/300 [00:31<00:15,  6.27it/s]INFO:sciml.model.fno.fno:Epoch 203 completed\n",
      "Training progress:  68%|██████▊   | 204/300 [00:31<00:15,  6.21it/s]INFO:sciml.model.fno.fno:Epoch 204 completed\n",
      "Training progress:  68%|██████▊   | 205/300 [00:31<00:15,  6.26it/s]INFO:sciml.model.fno.fno:Epoch 205 completed\n",
      "Training progress:  69%|██████▊   | 206/300 [00:31<00:14,  6.30it/s]INFO:sciml.model.fno.fno:Epoch 206 completed\n",
      "Training progress:  69%|██████▉   | 207/300 [00:31<00:14,  6.31it/s]INFO:sciml.model.fno.fno:Epoch 207 completed\n",
      "Training progress:  69%|██████▉   | 208/300 [00:31<00:14,  6.34it/s]INFO:sciml.model.fno.fno:Epoch 208 completed\n",
      "Training progress:  70%|██████▉   | 209/300 [00:31<00:14,  6.32it/s]INFO:sciml.model.fno.fno:Epoch 209 completed\n",
      "Training progress:  70%|███████   | 210/300 [00:32<00:14,  6.18it/s]INFO:sciml.model.fno.fno:Epoch 210 completed\n",
      "Training progress:  70%|███████   | 211/300 [00:32<00:17,  5.09it/s]INFO:sciml.model.fno.fno:Epoch 211 completed\n",
      "Training progress:  71%|███████   | 212/300 [00:32<00:16,  5.42it/s]INFO:sciml.model.fno.fno:Epoch 212 completed\n",
      "Training progress:  71%|███████   | 213/300 [00:32<00:15,  5.65it/s]INFO:sciml.model.fno.fno:Epoch 213 completed\n",
      "Training progress:  71%|███████▏  | 214/300 [00:32<00:14,  5.84it/s]INFO:sciml.model.fno.fno:Epoch 214 completed\n",
      "Training progress:  72%|███████▏  | 215/300 [00:33<00:14,  5.90it/s]INFO:sciml.model.fno.fno:Epoch 215 completed\n",
      "Training progress:  72%|███████▏  | 216/300 [00:33<00:14,  5.99it/s]INFO:sciml.model.fno.fno:Epoch 216 completed\n",
      "Training progress:  72%|███████▏  | 217/300 [00:33<00:13,  6.00it/s]INFO:sciml.model.fno.fno:Epoch 217 completed\n",
      "Training progress:  73%|███████▎  | 218/300 [00:33<00:13,  6.06it/s]INFO:sciml.model.fno.fno:Epoch 218 completed\n",
      "Training progress:  73%|███████▎  | 219/300 [00:33<00:13,  6.10it/s]INFO:sciml.model.fno.fno:Epoch 219 completed\n",
      "Training progress:  73%|███████▎  | 220/300 [00:33<00:12,  6.18it/s]INFO:sciml.model.fno.fno:Epoch 220 completed\n",
      "Training progress:  74%|███████▎  | 221/300 [00:34<00:12,  6.21it/s]INFO:sciml.model.fno.fno:Epoch 221 completed\n",
      "Training progress:  74%|███████▍  | 222/300 [00:34<00:12,  6.20it/s]INFO:sciml.model.fno.fno:Epoch 222 completed\n",
      "Training progress:  74%|███████▍  | 223/300 [00:34<00:12,  6.22it/s]INFO:sciml.model.fno.fno:Epoch 223 completed\n",
      "Training progress:  75%|███████▍  | 224/300 [00:34<00:12,  6.22it/s]INFO:sciml.model.fno.fno:Epoch 224 completed\n",
      "Training progress:  75%|███████▌  | 225/300 [00:34<00:11,  6.28it/s]INFO:sciml.model.fno.fno:Epoch 225 completed\n",
      "Training progress:  75%|███████▌  | 226/300 [00:34<00:11,  6.36it/s]INFO:sciml.model.fno.fno:Epoch 226 completed\n",
      "Training progress:  76%|███████▌  | 227/300 [00:34<00:11,  6.34it/s]INFO:sciml.model.fno.fno:Epoch 227 completed\n",
      "Training progress:  76%|███████▌  | 228/300 [00:35<00:11,  6.33it/s]INFO:sciml.model.fno.fno:Epoch 228 completed\n",
      "Training progress:  76%|███████▋  | 229/300 [00:35<00:11,  6.37it/s]INFO:sciml.model.fno.fno:Epoch 229 completed\n",
      "Training progress:  77%|███████▋  | 230/300 [00:35<00:10,  6.39it/s]INFO:sciml.model.fno.fno:Epoch 230 completed\n",
      "Training progress:  77%|███████▋  | 231/300 [00:35<00:10,  6.33it/s]INFO:sciml.model.fno.fno:Epoch 231 completed\n",
      "Training progress:  77%|███████▋  | 232/300 [00:35<00:10,  6.40it/s]INFO:sciml.model.fno.fno:Epoch 232 completed\n",
      "Training progress:  78%|███████▊  | 233/300 [00:35<00:10,  6.32it/s]INFO:sciml.model.fno.fno:Epoch 233 completed\n",
      "Training progress:  78%|███████▊  | 234/300 [00:36<00:10,  6.36it/s]INFO:sciml.model.fno.fno:Epoch 234 completed\n",
      "Training progress:  78%|███████▊  | 235/300 [00:36<00:10,  6.39it/s]INFO:sciml.model.fno.fno:Epoch 235 completed\n",
      "Training progress:  79%|███████▊  | 236/300 [00:36<00:10,  6.34it/s]INFO:sciml.model.fno.fno:Epoch 236 completed\n",
      "INFO:sciml.model.fno.fno:Epoch 237 completed\n",
      "INFO:sciml.model.fno.fno:Epoch 238 completed\n",
      "INFO:sciml.model.fno.fno:Epoch 239 completed\n",
      "INFO:sciml.model.fno.fno:Epoch 240 completed\n",
      "INFO:sciml.model.fno.fno:Epoch 241 completed\n",
      "INFO:sciml.model.fno.fno:Epoch 242 completed\n",
      "INFO:sciml.model.fno.fno:Epoch 243 completed\n",
      "INFO:sciml.model.fno.fno:Epoch 244 completed\n",
      "INFO:sciml.model.fno.fno:Epoch 245 completed\n",
      "INFO:sciml.model.fno.fno:Epoch 246 completed\n",
      "INFO:sciml.model.fno.fno:Epoch 247 completed\n",
      "INFO:sciml.model.fno.fno:Epoch 248 completed\n",
      "INFO:sciml.model.fno.fno:Epoch 249 completed\n",
      "INFO:sciml.model.fno.fno:Epoch 250 completed\n",
      "INFO:sciml.model.fno.fno:Epoch 251 completed\n",
      "INFO:sciml.model.fno.fno:Epoch 252 completed\n",
      "Training progress:  84%|████████▍ | 253/300 [00:36<00:01, 32.46it/s]INFO:sciml.model.fno.fno:Epoch 253 completed\n",
      "INFO:sciml.model.fno.fno:Epoch 254 completed\n",
      "2025-03-09 01:19:40.318429: I tensorflow/core/framework/local_rendezvous.cc:405] Local rendezvous is aborting with status: OUT_OF_RANGE: End of sequence\n",
      "INFO:sciml.model.fno.fno:Epoch 255 completed\n",
      "Training progress:  85%|████████▌ | 256/300 [00:37<00:02, 17.98it/s]INFO:sciml.model.fno.fno:Epoch 256 completed\n",
      "INFO:sciml.model.fno.fno:Epoch 257 completed\n",
      "INFO:sciml.model.fno.fno:Epoch 258 completed\n",
      "Training progress:  86%|████████▋ | 259/300 [00:37<00:03, 12.58it/s]INFO:sciml.model.fno.fno:Epoch 259 completed\n",
      "INFO:sciml.model.fno.fno:Epoch 260 completed\n",
      "Training progress:  87%|████████▋ | 261/300 [00:37<00:03, 10.59it/s]INFO:sciml.model.fno.fno:Epoch 261 completed\n",
      "INFO:sciml.model.fno.fno:Epoch 262 completed\n",
      "Training progress:  88%|████████▊ | 263/300 [00:38<00:04,  9.16it/s]INFO:sciml.model.fno.fno:Epoch 263 completed\n",
      "INFO:sciml.model.fno.fno:Epoch 264 completed\n",
      "Training progress:  88%|████████▊ | 265/300 [00:38<00:04,  8.18it/s]INFO:sciml.model.fno.fno:Epoch 265 completed\n",
      "Training progress:  89%|████████▊ | 266/300 [00:38<00:04,  7.66it/s]INFO:sciml.model.fno.fno:Epoch 266 completed\n",
      "Training progress:  89%|████████▉ | 267/300 [00:39<00:04,  7.28it/s]INFO:sciml.model.fno.fno:Epoch 267 completed\n",
      "Training progress:  89%|████████▉ | 268/300 [00:39<00:04,  6.77it/s]INFO:sciml.model.fno.fno:Epoch 268 completed\n",
      "Training progress:  90%|████████▉ | 269/300 [00:39<00:04,  6.49it/s]INFO:sciml.model.fno.fno:Epoch 269 completed\n",
      "Training progress:  90%|█████████ | 270/300 [00:39<00:04,  6.22it/s]INFO:sciml.model.fno.fno:Epoch 270 completed\n",
      "Training progress:  90%|█████████ | 271/300 [00:39<00:04,  6.20it/s]INFO:sciml.model.fno.fno:Epoch 271 completed\n",
      "Training progress:  91%|█████████ | 272/300 [00:39<00:04,  6.14it/s]INFO:sciml.model.fno.fno:Epoch 272 completed\n",
      "Training progress:  91%|█████████ | 273/300 [00:40<00:04,  6.12it/s]INFO:sciml.model.fno.fno:Epoch 273 completed\n",
      "Training progress:  91%|█████████▏| 274/300 [00:40<00:04,  6.17it/s]INFO:sciml.model.fno.fno:Epoch 274 completed\n",
      "Training progress:  92%|█████████▏| 275/300 [00:40<00:04,  6.21it/s]INFO:sciml.model.fno.fno:Epoch 275 completed\n",
      "Training progress:  92%|█████████▏| 276/300 [00:40<00:03,  6.23it/s]INFO:sciml.model.fno.fno:Epoch 276 completed\n",
      "Training progress:  92%|█████████▏| 277/300 [00:40<00:03,  6.22it/s]INFO:sciml.model.fno.fno:Epoch 277 completed\n",
      "Training progress:  93%|█████████▎| 278/300 [00:40<00:03,  6.28it/s]INFO:sciml.model.fno.fno:Epoch 278 completed\n",
      "Training progress:  93%|█████████▎| 279/300 [00:41<00:03,  6.30it/s]INFO:sciml.model.fno.fno:Epoch 279 completed\n",
      "Training progress:  93%|█████████▎| 280/300 [00:41<00:03,  6.11it/s]INFO:sciml.model.fno.fno:Epoch 280 completed\n",
      "Training progress:  94%|█████████▎| 281/300 [00:41<00:03,  6.14it/s]INFO:sciml.model.fno.fno:Epoch 281 completed\n",
      "Training progress:  94%|█████████▍| 282/300 [00:41<00:02,  6.12it/s]INFO:sciml.model.fno.fno:Epoch 282 completed\n",
      "Training progress:  94%|█████████▍| 283/300 [00:41<00:02,  6.18it/s]INFO:sciml.model.fno.fno:Epoch 283 completed\n",
      "Training progress:  95%|█████████▍| 284/300 [00:41<00:02,  6.16it/s]INFO:sciml.model.fno.fno:Epoch 284 completed\n",
      "Training progress:  95%|█████████▌| 285/300 [00:41<00:02,  6.15it/s]INFO:sciml.model.fno.fno:Epoch 285 completed\n",
      "Training progress:  95%|█████████▌| 286/300 [00:42<00:02,  6.18it/s]INFO:sciml.model.fno.fno:Epoch 286 completed\n",
      "Training progress:  96%|█████████▌| 287/300 [00:42<00:02,  6.17it/s]INFO:sciml.model.fno.fno:Epoch 287 completed\n",
      "Training progress:  96%|█████████▌| 288/300 [00:42<00:01,  6.25it/s]INFO:sciml.model.fno.fno:Epoch 288 completed\n",
      "Training progress:  96%|█████████▋| 289/300 [00:42<00:01,  6.27it/s]INFO:sciml.model.fno.fno:Epoch 289 completed\n",
      "Training progress:  97%|█████████▋| 290/300 [00:42<00:01,  6.27it/s]INFO:sciml.model.fno.fno:Epoch 290 completed\n",
      "Training progress:  97%|█████████▋| 291/300 [00:42<00:01,  6.19it/s]INFO:sciml.model.fno.fno:Epoch 291 completed\n",
      "Training progress:  97%|█████████▋| 292/300 [00:43<00:01,  6.18it/s]INFO:sciml.model.fno.fno:Epoch 292 completed\n",
      "Training progress:  98%|█████████▊| 293/300 [00:43<00:01,  6.21it/s]INFO:sciml.model.fno.fno:Epoch 293 completed\n",
      "Training progress:  98%|█████████▊| 294/300 [00:43<00:00,  6.21it/s]INFO:sciml.model.fno.fno:Epoch 294 completed\n",
      "Training progress:  98%|█████████▊| 295/300 [00:43<00:00,  6.30it/s]INFO:sciml.model.fno.fno:Epoch 295 completed\n",
      "Training progress:  99%|█████████▊| 296/300 [00:43<00:00,  6.29it/s]INFO:sciml.model.fno.fno:Epoch 296 completed\n",
      "Training progress:  99%|█████████▉| 297/300 [00:43<00:00,  6.25it/s]INFO:sciml.model.fno.fno:Epoch 297 completed\n",
      "Training progress:  99%|█████████▉| 298/300 [00:44<00:00,  6.13it/s]INFO:sciml.model.fno.fno:Epoch 298 completed\n",
      "Training progress: 100%|█████████▉| 299/300 [00:44<00:00,  6.15it/s]INFO:sciml.model.fno.fno:Epoch 299 completed\n",
      "Training progress: 100%|██████████| 300/300 [00:44<00:00,  6.76it/s]\n"
     ]
    }
   ],
   "source": [
    "train_history = model.fit()"
   ]
  },
  {
   "cell_type": "code",
   "execution_count": 11,
   "id": "4105582b",
   "metadata": {},
   "outputs": [
    {
     "data": {
      "image/png": "[encoded data removed]",
      "text/plain": [
       "<Figure size 640x480 with 1 Axes>"
      ]
     },
     "metadata": {},
     "output_type": "display_data"
    }
   ],
   "source": [
    "plt.plot(train_history)\n",
    "plt.grid()\n",
    "plt.show()"
   ]
  },
  {
   "cell_type": "code",
   "execution_count": null,
   "id": "3b90b076",
   "metadata": {},
   "outputs": [],
   "source": []
  }
 ],
 "metadata": {
  "kernelspec": {
   "display_name": ".venv",
   "language": "python",
   "name": "python3"
  },
  "language_info": {
   "codemirror_mode": {
    "name": "ipython",
    "version": 3
   },
   "file_extension": ".py",
   "mimetype": "text/x-python",
   "name": "python",
   "nbconvert_exporter": "python",
   "pygments_lexer": "ipython3",
   "version": "3.11.11"
  }
 },
 "nbformat": 4,
 "nbformat_minor": 5
}
