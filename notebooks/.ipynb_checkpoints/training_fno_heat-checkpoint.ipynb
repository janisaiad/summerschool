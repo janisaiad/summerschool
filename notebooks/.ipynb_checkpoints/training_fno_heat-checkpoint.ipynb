{
 "cells": [
  {
   "cell_type": "code",
   "execution_count": 8,
   "id": "3afa440a",
   "metadata": {
    "lines_to_end_of_cell_marker": 2
   },
   "outputs": [
    {
     "data": {
      "text/plain": [
       "[PhysicalDevice(name='/physical_device:GPU:0', device_type='GPU')]"
      ]
     },
     "execution_count": 8,
     "metadata": {},
     "output_type": "execute_result"
    }
   ],
   "source": [
    "from sciml.model.fno import FNO\n",
    "import tensorflow as tf\n",
    "import numpy as np\n",
    "import matplotlib.pyplot as plt\n",
    "tf.config.list_physical_devices('GPU')"
   ]
  },
  {
   "cell_type": "code",
   "execution_count": 9,
   "id": "27d56547",
   "metadata": {
    "lines_to_next_cell": 2
   },
   "outputs": [],
   "source": [
    "nb_xi = 2 # can be deduced from mu because it's len(mu.shape) - 1\n",
    "p_1 = 20 # dimension of scheme for xi for all i\n",
    "p_2 = 20 # dimension of scheme for xi for all i\n",
    "p_3 = 20 # dimension of scheme for xi for all i\n",
    "epochs = 300 \n",
    "index = 10"
   ]
  },
  {
   "cell_type": "code",
   "execution_count": 10,
   "id": "bec67b9f",
   "metadata": {
    "lines_to_end_of_cell_marker": 2
   },
   "outputs": [],
   "source": [
    "# inputs are of the form [batch, p_1, p_1, nd_xi +1] for nb_xi=2 (+1 because of the mu=f(x))\n",
    "\n",
    "first_network = tf.keras.Sequential([\n",
    "    tf.keras.layers.InputLayer(shape=(p_1, p_1, nb_xi+1,)),  # [batch, p_1, p_1, 3]\n",
    "    tf.keras.layers.Conv2D(64, 3, padding='same', activation='relu'),\n",
    "    tf.keras.layers.Conv2D(128, 3, padding='same', activation='relu'),\n",
    "    tf.keras.layers.Conv2D(p_2, 1, activation='relu')  # Point-wise conv to get p_2 channels\n",
    "])\n",
    "\n",
    "last_network = tf.keras.Sequential([\n",
    "    tf.keras.layers.InputLayer(shape=(p_1, p_1, nb_xi+1,)),  # [batch, p_1, p_1, p_2]\n",
    "    tf.keras.layers.Conv2D(128, 3, padding='same', activation='relu'),\n",
    "    tf.keras.layers.Conv2D(64, 3, padding='same', activation='relu'),\n",
    "    tf.keras.layers.Conv2D(nb_xi+1, 1, activation='linear')  # Output same channels as input (nb_xi+1)\n",
    "])\n",
    "\n",
    "# first network graph:\n",
    "# [batch, p_1, p_1, 3] -> [batch, p_1, p_1, 64] -> [batch, p_1, p_1, 128] -> [batch, p_1, p_1, p_2]\n",
    "# last network graph:\n",
    "# [batch, p_1, p_1, 3] -> [batch, p_1, p_1, 128] -> [batch, p_1, p_1, 64] -> [batch, p_1, p_1, 3]"
   ]
  },
  {
   "cell_type": "code",
   "execution_count": 11,
   "id": "30d1a04c",
   "metadata": {},
   "outputs": [],
   "source": [
    "folder_path = \"data/test_data/example_data_fno/heat2d/\""
   ]
  },
  {
   "cell_type": "code",
   "execution_count": 12,
   "id": "7cb33502",
   "metadata": {},
   "outputs": [],
   "source": [
    "n_layers = 3\n",
    "n_modes = p_2 # we use the same number of modes for the network, perfect fourier transform with well known heisenberg inequality (supp )*(supp F) >= n_modes\n",
    "\n",
    "activation = 'relu'\n",
    "kernel_initializer = 'he_normal'\n",
    "device = \"GPU\"\n",
    "n_epochs = epochs\n"
   ]
  },
  {
   "cell_type": "code",
   "execution_count": 13,
   "id": "3e406c23",
   "metadata": {},
   "outputs": [
    {
     "name": "stderr",
     "output_type": "stream",
     "text": [
      "INFO:sciml.model.fno.fno:Model initialized with 300 epochs, 32 batch size, 0.001 learning rate\n"
     ]
    }
   ],
   "source": [
    "model = FNO(regular_params={\"first_network\": first_network, \"last_network\": last_network},fourier_params={\"n_layers\": n_layers, \"dim_coords\":2, \"n_modes\": n_modes, \"activation\": activation, \"kernel_initializer\": kernel_initializer}, hyper_params={\"p_1\": p_1, \"p_2\": p_2,'p_3':p_3,\"device\": device,\"n_epochs\":n_epochs,\"index\":index})"
   ]
  },
  {
   "cell_type": "code",
   "execution_count": 15,
   "id": "eb9f3d88",
   "metadata": {},
   "outputs": [],
   "source": [
    "mus, sol = model.get_data(folder_path)"
   ]
  },
  {
   "cell_type": "code",
   "execution_count": 16,
   "id": "2600011d",
   "metadata": {},
   "outputs": [
    {
     "name": "stdout",
     "output_type": "stream",
     "text": [
      "(40, 20, 20, 3)\n",
      "(40, 20, 20)\n"
     ]
    }
   ],
   "source": [
    "print(mus.shape)\n",
    "print(sol.shape)"
   ]
  },
  {
   "cell_type": "code",
   "execution_count": 17,
   "id": "c7da4cd3",
   "metadata": {},
   "outputs": [],
   "source": [
    "import os\n",
    "\n",
    "tf.get_logger().setLevel('ERROR')\n"
   ]
  },
  {
   "cell_type": "code",
   "execution_count": 18,
   "id": "d6065ca5",
   "metadata": {},
   "outputs": [
    {
     "name": "stderr",
     "output_type": "stream",
     "text": [
      "Training progress:   0%|          | 0/300 [00:00<?, ?it/s]E0000 00:00:1741971232.512131   30779 cuda_dnn.cc:522] Loaded runtime CuDNN library: 9.1.0 but source was compiled with: 9.3.0.  CuDNN library needs to have matching major version and equal or higher minor version. If using a binary install, upgrade your CuDNN library.  If building from sources, make sure the library loaded at runtime is compatible with the version specified during compile configuration.\n",
      "2025-03-14 17:53:52.514779: W tensorflow/core/framework/op_kernel.cc:1841] OP_REQUIRES failed at conv_ops_impl.h:1204 : INVALID_ARGUMENT: No DNN in stream executor.\n",
      "2025-03-14 17:53:52.514877: I tensorflow/core/framework/local_rendezvous.cc:405] Local rendezvous is aborting with status: INVALID_ARGUMENT: No DNN in stream executor.\n",
      "Training progress:   0%|          | 0/300 [00:00<?, ?it/s]\n"
     ]
    },
    {
     "ename": "InvalidArgumentError",
     "evalue": "Exception encountered when calling Conv2D.call().\n\n\u001b[1m{{function_node __wrapped__Conv2D_device_/job:localhost/replica:0/task:0/device:GPU:0}} No DNN in stream executor. [Op:Conv2D]\u001b[0m\n\nArguments received by Conv2D.call():\n  • inputs=tf.Tensor(shape=(32, 20, 20, 3), dtype=float32)",
     "output_type": "error",
     "traceback": [
      "\u001b[31m---------------------------------------------------------------------------\u001b[39m",
      "\u001b[31mInvalidArgumentError\u001b[39m                      Traceback (most recent call last)",
      "\u001b[36mCell\u001b[39m\u001b[36m \u001b[39m\u001b[32mIn[18]\u001b[39m\u001b[32m, line 1\u001b[39m\n\u001b[32m----> \u001b[39m\u001b[32m1\u001b[39m train_history = \u001b[43mmodel\u001b[49m\u001b[43m.\u001b[49m\u001b[43mfit\u001b[49m\u001b[43m(\u001b[49m\u001b[43m)\u001b[49m\n",
      "\u001b[36mFile \u001b[39m\u001b[32m~/SCIML/sciml/model/fno/fno.py:309\u001b[39m, in \u001b[36mFNO.fit\u001b[39m\u001b[34m(self, device, inputs, sol)\u001b[39m\n\u001b[32m    307\u001b[39m \u001b[38;5;28;01mfor\u001b[39;00m epoch \u001b[38;5;129;01min\u001b[39;00m tqdm(\u001b[38;5;28mrange\u001b[39m(\u001b[38;5;28mself\u001b[39m.n_epochs),desc=\u001b[33m\"\u001b[39m\u001b[33mTraining progress\u001b[39m\u001b[33m\"\u001b[39m):\n\u001b[32m    308\u001b[39m     \u001b[38;5;28;01mfor\u001b[39;00m batch \u001b[38;5;129;01min\u001b[39;00m dataset:\n\u001b[32m--> \u001b[39m\u001b[32m309\u001b[39m         loss = \u001b[38;5;28;43mself\u001b[39;49m\u001b[43m.\u001b[49m\u001b[43mtrain_step\u001b[49m\u001b[43m(\u001b[49m\u001b[43mbatch\u001b[49m\u001b[43m)\u001b[49m\n\u001b[32m    310\u001b[39m         loss_history.append(loss)\n\u001b[32m    311\u001b[39m     logger.info(\u001b[33mf\u001b[39m\u001b[33m\"\u001b[39m\u001b[33mEpoch \u001b[39m\u001b[38;5;132;01m{\u001b[39;00mepoch\u001b[38;5;132;01m}\u001b[39;00m\u001b[33m completed\u001b[39m\u001b[33m\"\u001b[39m)\n",
      "\u001b[36mFile \u001b[39m\u001b[32m~/SCIML/sciml/model/fno/fno.py:323\u001b[39m, in \u001b[36mFNO.train_step\u001b[39m\u001b[34m(self, batch)\u001b[39m\n\u001b[32m    319\u001b[39m inputs, sol = batch\n\u001b[32m    321\u001b[39m \u001b[38;5;28;01mwith\u001b[39;00m tf.GradientTape() \u001b[38;5;28;01mas\u001b[39;00m tape:\n\u001b[32m--> \u001b[39m\u001b[32m323\u001b[39m     y_pred = \u001b[38;5;28;43mself\u001b[39;49m\u001b[43m.\u001b[49m\u001b[43mpredict\u001b[49m\u001b[43m(\u001b[49m\u001b[43minputs\u001b[49m\u001b[43m)\u001b[49m\n\u001b[32m    326\u001b[39m     loss = \u001b[38;5;28mself\u001b[39m.loss_function(y_pred, sol)\n\u001b[32m    329\u001b[39m gradients = tape.gradient(loss, \u001b[38;5;28mself\u001b[39m.trainable_variables)\n",
      "\u001b[36mFile \u001b[39m\u001b[32m~/SCIML/sciml/model/fno/fno.py:212\u001b[39m, in \u001b[36mFNO.predict\u001b[39m\u001b[34m(self, inputs)\u001b[39m\n\u001b[32m    209\u001b[39m n_points = tf.shape(inputs)[\u001b[32m1\u001b[39m]\n\u001b[32m    210\u001b[39m \u001b[38;5;28;01mwith\u001b[39;00m tf.device(\u001b[38;5;28mself\u001b[39m.device):\n\u001b[32m    211\u001b[39m     \u001b[38;5;66;03m#  first network\u001b[39;00m\n\u001b[32m--> \u001b[39m\u001b[32m212\u001b[39m     features = \u001b[38;5;28;43mself\u001b[39;49m\u001b[43m.\u001b[49m\u001b[43mfirst_network\u001b[49m\u001b[43m(\u001b[49m\u001b[43minputs\u001b[49m\u001b[43m)\u001b[49m  \u001b[38;5;66;03m# [batch, p_1] -> [batch, p_2]\u001b[39;00m\n\u001b[32m    214\u001b[39m     \u001b[38;5;66;03m#  fourier network,  [batch, n_points, p_2] -> [batch, p_3]\u001b[39;00m\n\u001b[32m    215\u001b[39m     fourier_features = \u001b[38;5;28mself\u001b[39m.fourier_network(features,inputs)  \u001b[38;5;66;03m# [batch, p_2]\u001b[39;00m\n",
      "\u001b[36mFile \u001b[39m\u001b[32m~/SCIML/sciml/.venv/lib/python3.11/site-packages/keras/src/utils/traceback_utils.py:122\u001b[39m, in \u001b[36mfilter_traceback.<locals>.error_handler\u001b[39m\u001b[34m(*args, **kwargs)\u001b[39m\n\u001b[32m    119\u001b[39m     filtered_tb = _process_traceback_frames(e.__traceback__)\n\u001b[32m    120\u001b[39m     \u001b[38;5;66;03m# To get the full stack trace, call:\u001b[39;00m\n\u001b[32m    121\u001b[39m     \u001b[38;5;66;03m# `keras.config.disable_traceback_filtering()`\u001b[39;00m\n\u001b[32m--> \u001b[39m\u001b[32m122\u001b[39m     \u001b[38;5;28;01mraise\u001b[39;00m e.with_traceback(filtered_tb) \u001b[38;5;28;01mfrom\u001b[39;00m\u001b[38;5;250m \u001b[39m\u001b[38;5;28;01mNone\u001b[39;00m\n\u001b[32m    123\u001b[39m \u001b[38;5;28;01mfinally\u001b[39;00m:\n\u001b[32m    124\u001b[39m     \u001b[38;5;28;01mdel\u001b[39;00m filtered_tb\n",
      "\u001b[36mFile \u001b[39m\u001b[32m~/SCIML/sciml/.venv/lib/python3.11/site-packages/tensorflow/python/eager/execute.py:53\u001b[39m, in \u001b[36mquick_execute\u001b[39m\u001b[34m(op_name, num_outputs, inputs, attrs, ctx, name)\u001b[39m\n\u001b[32m     51\u001b[39m \u001b[38;5;28;01mtry\u001b[39;00m:\n\u001b[32m     52\u001b[39m   ctx.ensure_initialized()\n\u001b[32m---> \u001b[39m\u001b[32m53\u001b[39m   tensors = pywrap_tfe.TFE_Py_Execute(ctx._handle, device_name, op_name,\n\u001b[32m     54\u001b[39m                                       inputs, attrs, num_outputs)\n\u001b[32m     55\u001b[39m \u001b[38;5;28;01mexcept\u001b[39;00m core._NotOkStatusException \u001b[38;5;28;01mas\u001b[39;00m e:\n\u001b[32m     56\u001b[39m   \u001b[38;5;28;01mif\u001b[39;00m name \u001b[38;5;129;01mis\u001b[39;00m \u001b[38;5;129;01mnot\u001b[39;00m \u001b[38;5;28;01mNone\u001b[39;00m:\n",
      "\u001b[31mInvalidArgumentError\u001b[39m: Exception encountered when calling Conv2D.call().\n\n\u001b[1m{{function_node __wrapped__Conv2D_device_/job:localhost/replica:0/task:0/device:GPU:0}} No DNN in stream executor. [Op:Conv2D]\u001b[0m\n\nArguments received by Conv2D.call():\n  • inputs=tf.Tensor(shape=(32, 20, 20, 3), dtype=float32)"
     ]
    }
   ],
   "source": [
    "train_history = model.fit()"
   ]
  },
  {
   "cell_type": "code",
   "execution_count": 11,
   "id": "4105582b",
   "metadata": {},
   "outputs": [
    {
     "data": {
      "image/png": "[encoded data removed]",
      "text/plain": [
       "<Figure size 640x480 with 1 Axes>"
      ]
     },
     "metadata": {},
     "output_type": "display_data"
    }
   ],
   "source": [
    "plt.plot(train_history)\n",
    "plt.grid()\n",
    "plt.show()"
   ]
  },
  {
   "cell_type": "code",
   "execution_count": null,
   "id": "3b90b076",
   "metadata": {},
   "outputs": [],
   "source": []
  }
 ],
 "metadata": {
  "kernelspec": {
   "display_name": ".venv",
   "language": "python",
   "name": "python3"
  },
  "language_info": {
   "codemirror_mode": {
    "name": "ipython",
    "version": 3
   },
   "file_extension": ".py",
   "mimetype": "text/x-python",
   "name": "python",
   "nbconvert_exporter": "python",
   "pygments_lexer": "ipython3",
   "version": "3.11.11"
  }
 },
 "nbformat": 4,
 "nbformat_minor": 5
}
